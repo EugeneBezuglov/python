{
 "cells": [
  {
   "cell_type": "markdown",
   "id": "9486c40b",
   "metadata": {},
   "source": [
    "The key aspect of ride-hailing is the price. It relies on technology to collect accurate tracking data so that a fair price can be calculated at the end of the trip. Fortunately, our riders are quick to tell us when they overpaid and we can use that feedback to improve our product.\n",
    "\n",
    "Please analyze the dataset to identify top opportunities for reducing the number of overcharge tickets and present your results. Please provide us with a PDF file/document with the findings. Finally, you shouldn’t spend more than 8 hours on this analysis."
   ]
  },
  {
   "cell_type": "markdown",
   "id": "c3c5ce8a",
   "metadata": {},
   "source": [
    "Variables in the file:\n",
    "\n",
    "order_id_new, order_try_id_new - id of an order\n",
    "\n",
    "calc_created- time when the order was created\n",
    "\n",
    "metered_price, distance, duration- actual price, distance and duration of a ride\n",
    "\n",
    "upfront_price- promised to the rider price, based on predicted duration (predicted_duration) and distance (predicted_distance)\n",
    "\n",
    "distance - ride distance\n",
    "\n",
    "duration - ride duration\n",
    "\n",
    "gps_confidence- indicator for good GPS connection (1 - good one, 0 - bad one)\n",
    "\n",
    "entered_by- who entered the address\n",
    "\n",
    "b_state- state of a ride (finished implies that the ride was actually done)\n",
    "\n",
    "dest_change_number- number of destination changes by a rider\n",
    "\n",
    "predicted distance - predicted duration of a ride based on the pickup and dropoff points entered by the rider requesting a car\n",
    "\n",
    "predicted duration - predicted duration of a ride based on the pickup and dropoff points entered by the rider requesting a car\n",
    "\n",
    "prediction_price_type- internal variable for the type of prediction:\n",
    "\n",
    "upfront, prediction - prediction happened before the ride\n",
    "\n",
    "upfront_destination_changed - prediction happened after rider changed destination during the ride\n",
    "\n",
    "change_reason_pricing - records due to whose action the price changed\n",
    "\n",
    "ticket_id_new - id for customer support ticket"
   ]
  },
  {
   "cell_type": "code",
   "execution_count": 1,
   "id": "f98755d5",
   "metadata": {},
   "outputs": [],
   "source": [
    "import pandas as pd\n",
    "import numpy as np"
   ]
  },
  {
   "cell_type": "code",
   "execution_count": 2,
   "id": "c11bd40f",
   "metadata": {},
   "outputs": [],
   "source": [
    "df = pd.read_csv(r\"D:\\Data Analysis\\DA Projects\\taxi-test-case\\Analytical_Task_2 (taxi startup).csv\")"
   ]
  },
  {
   "cell_type": "code",
   "execution_count": 3,
   "id": "06a1b0ff",
   "metadata": {},
   "outputs": [],
   "source": [
    "pd.set_option('display.max_columns', 50)"
   ]
  },
  {
   "cell_type": "code",
   "execution_count": 4,
   "id": "c61faece",
   "metadata": {},
   "outputs": [
    {
     "data": {
      "text/html": [
       "<div>\n",
       "<style scoped>\n",
       "    .dataframe tbody tr th:only-of-type {\n",
       "        vertical-align: middle;\n",
       "    }\n",
       "\n",
       "    .dataframe tbody tr th {\n",
       "        vertical-align: top;\n",
       "    }\n",
       "\n",
       "    .dataframe thead th {\n",
       "        text-align: right;\n",
       "    }\n",
       "</style>\n",
       "<table border=\"1\" class=\"dataframe\">\n",
       "  <thead>\n",
       "    <tr style=\"text-align: right;\">\n",
       "      <th></th>\n",
       "      <th>order_id_new</th>\n",
       "      <th>order_try_id_new</th>\n",
       "      <th>calc_created</th>\n",
       "      <th>metered_price</th>\n",
       "      <th>upfront_price</th>\n",
       "      <th>distance</th>\n",
       "      <th>duration</th>\n",
       "      <th>gps_confidence</th>\n",
       "      <th>entered_by</th>\n",
       "      <th>b_state</th>\n",
       "      <th>dest_change_number</th>\n",
       "      <th>prediction_price_type</th>\n",
       "      <th>predicted_distance</th>\n",
       "      <th>predicted_duration</th>\n",
       "      <th>change_reason_pricing</th>\n",
       "      <th>ticket_id_new</th>\n",
       "      <th>device_token</th>\n",
       "      <th>rider_app_version</th>\n",
       "      <th>order_state</th>\n",
       "      <th>order_try_state</th>\n",
       "      <th>driver_app_version</th>\n",
       "      <th>driver_device_uid_new</th>\n",
       "      <th>device_name</th>\n",
       "      <th>eu_indicator</th>\n",
       "      <th>overpaid_ride_ticket</th>\n",
       "      <th>fraud_score</th>\n",
       "    </tr>\n",
       "  </thead>\n",
       "  <tbody>\n",
       "    <tr>\n",
       "      <th>0</th>\n",
       "      <td>22</td>\n",
       "      <td>22</td>\n",
       "      <td>2020-02-02 3:37:31</td>\n",
       "      <td>4.04</td>\n",
       "      <td>10.0</td>\n",
       "      <td>2839</td>\n",
       "      <td>700</td>\n",
       "      <td>1</td>\n",
       "      <td>client</td>\n",
       "      <td>finished</td>\n",
       "      <td>1</td>\n",
       "      <td>upfront</td>\n",
       "      <td>13384.0</td>\n",
       "      <td>1091.0</td>\n",
       "      <td>NaN</td>\n",
       "      <td>1376</td>\n",
       "      <td>NaN</td>\n",
       "      <td>CI.4.17</td>\n",
       "      <td>finished</td>\n",
       "      <td>finished</td>\n",
       "      <td>DA.4.37</td>\n",
       "      <td>1596</td>\n",
       "      <td>Xiaomi Redmi 6</td>\n",
       "      <td>1</td>\n",
       "      <td>0</td>\n",
       "      <td>-1383.0</td>\n",
       "    </tr>\n",
       "    <tr>\n",
       "      <th>1</th>\n",
       "      <td>618</td>\n",
       "      <td>618</td>\n",
       "      <td>2020-02-08 2:26:19</td>\n",
       "      <td>6.09</td>\n",
       "      <td>3.6</td>\n",
       "      <td>5698</td>\n",
       "      <td>493</td>\n",
       "      <td>1</td>\n",
       "      <td>client</td>\n",
       "      <td>finished</td>\n",
       "      <td>1</td>\n",
       "      <td>upfront</td>\n",
       "      <td>2286.0</td>\n",
       "      <td>360.0</td>\n",
       "      <td>NaN</td>\n",
       "      <td>2035</td>\n",
       "      <td>NaN</td>\n",
       "      <td>CA.5.43</td>\n",
       "      <td>finished</td>\n",
       "      <td>finished</td>\n",
       "      <td>DA.4.39</td>\n",
       "      <td>1578</td>\n",
       "      <td>Samsung SM-G965F</td>\n",
       "      <td>1</td>\n",
       "      <td>0</td>\n",
       "      <td>NaN</td>\n",
       "    </tr>\n",
       "    <tr>\n",
       "      <th>2</th>\n",
       "      <td>657</td>\n",
       "      <td>657</td>\n",
       "      <td>2020-02-08 11:50:35</td>\n",
       "      <td>4.32</td>\n",
       "      <td>3.5</td>\n",
       "      <td>4426</td>\n",
       "      <td>695</td>\n",
       "      <td>1</td>\n",
       "      <td>client</td>\n",
       "      <td>finished</td>\n",
       "      <td>1</td>\n",
       "      <td>upfront</td>\n",
       "      <td>4101.0</td>\n",
       "      <td>433.0</td>\n",
       "      <td>NaN</td>\n",
       "      <td>2222</td>\n",
       "      <td>NaN</td>\n",
       "      <td>CA.5.43</td>\n",
       "      <td>finished</td>\n",
       "      <td>finished</td>\n",
       "      <td>DA.4.37</td>\n",
       "      <td>951</td>\n",
       "      <td>Samsung SM-A530F</td>\n",
       "      <td>1</td>\n",
       "      <td>0</td>\n",
       "      <td>-166.0</td>\n",
       "    </tr>\n",
       "    <tr>\n",
       "      <th>3</th>\n",
       "      <td>313</td>\n",
       "      <td>313</td>\n",
       "      <td>2020-02-05 6:34:54</td>\n",
       "      <td>72871.72</td>\n",
       "      <td>NaN</td>\n",
       "      <td>49748</td>\n",
       "      <td>1400</td>\n",
       "      <td>0</td>\n",
       "      <td>client</td>\n",
       "      <td>finished</td>\n",
       "      <td>2</td>\n",
       "      <td>upfront_destination_changed</td>\n",
       "      <td>3017.0</td>\n",
       "      <td>600.0</td>\n",
       "      <td>client_destination_changed</td>\n",
       "      <td>1788</td>\n",
       "      <td>NaN</td>\n",
       "      <td>CA.5.23</td>\n",
       "      <td>finished</td>\n",
       "      <td>finished</td>\n",
       "      <td>DA.4.37</td>\n",
       "      <td>1587</td>\n",
       "      <td>TECNO-Y6</td>\n",
       "      <td>0</td>\n",
       "      <td>1</td>\n",
       "      <td>NaN</td>\n",
       "    </tr>\n",
       "    <tr>\n",
       "      <th>4</th>\n",
       "      <td>1176</td>\n",
       "      <td>1176</td>\n",
       "      <td>2020-02-13 17:31:24</td>\n",
       "      <td>20032.50</td>\n",
       "      <td>19500.0</td>\n",
       "      <td>10273</td>\n",
       "      <td>5067</td>\n",
       "      <td>1</td>\n",
       "      <td>client</td>\n",
       "      <td>finished</td>\n",
       "      <td>1</td>\n",
       "      <td>upfront</td>\n",
       "      <td>14236.0</td>\n",
       "      <td>2778.0</td>\n",
       "      <td>NaN</td>\n",
       "      <td>2710</td>\n",
       "      <td>NaN</td>\n",
       "      <td>CA.5.04</td>\n",
       "      <td>finished</td>\n",
       "      <td>finished</td>\n",
       "      <td>DA.4.37</td>\n",
       "      <td>433</td>\n",
       "      <td>Itel W5504</td>\n",
       "      <td>0</td>\n",
       "      <td>0</td>\n",
       "      <td>NaN</td>\n",
       "    </tr>\n",
       "  </tbody>\n",
       "</table>\n",
       "</div>"
      ],
      "text/plain": [
       "   order_id_new  order_try_id_new         calc_created  metered_price  \\\n",
       "0            22                22   2020-02-02 3:37:31           4.04   \n",
       "1           618               618   2020-02-08 2:26:19           6.09   \n",
       "2           657               657  2020-02-08 11:50:35           4.32   \n",
       "3           313               313   2020-02-05 6:34:54       72871.72   \n",
       "4          1176              1176  2020-02-13 17:31:24       20032.50   \n",
       "\n",
       "   upfront_price  distance  duration  gps_confidence entered_by   b_state  \\\n",
       "0           10.0      2839       700               1     client  finished   \n",
       "1            3.6      5698       493               1     client  finished   \n",
       "2            3.5      4426       695               1     client  finished   \n",
       "3            NaN     49748      1400               0     client  finished   \n",
       "4        19500.0     10273      5067               1     client  finished   \n",
       "\n",
       "   dest_change_number        prediction_price_type  predicted_distance  \\\n",
       "0                   1                      upfront             13384.0   \n",
       "1                   1                      upfront              2286.0   \n",
       "2                   1                      upfront              4101.0   \n",
       "3                   2  upfront_destination_changed              3017.0   \n",
       "4                   1                      upfront             14236.0   \n",
       "\n",
       "   predicted_duration       change_reason_pricing  ticket_id_new  \\\n",
       "0              1091.0                         NaN           1376   \n",
       "1               360.0                         NaN           2035   \n",
       "2               433.0                         NaN           2222   \n",
       "3               600.0  client_destination_changed           1788   \n",
       "4              2778.0                         NaN           2710   \n",
       "\n",
       "   device_token rider_app_version order_state order_try_state  \\\n",
       "0           NaN           CI.4.17    finished        finished   \n",
       "1           NaN           CA.5.43    finished        finished   \n",
       "2           NaN           CA.5.43    finished        finished   \n",
       "3           NaN           CA.5.23    finished        finished   \n",
       "4           NaN           CA.5.04    finished        finished   \n",
       "\n",
       "  driver_app_version  driver_device_uid_new       device_name  eu_indicator  \\\n",
       "0            DA.4.37                   1596    Xiaomi Redmi 6             1   \n",
       "1            DA.4.39                   1578  Samsung SM-G965F             1   \n",
       "2            DA.4.37                    951  Samsung SM-A530F             1   \n",
       "3            DA.4.37                   1587          TECNO-Y6             0   \n",
       "4            DA.4.37                    433        Itel W5504             0   \n",
       "\n",
       "   overpaid_ride_ticket  fraud_score  \n",
       "0                     0      -1383.0  \n",
       "1                     0          NaN  \n",
       "2                     0       -166.0  \n",
       "3                     1          NaN  \n",
       "4                     0          NaN  "
      ]
     },
     "execution_count": 4,
     "metadata": {},
     "output_type": "execute_result"
    }
   ],
   "source": [
    "df.head()"
   ]
  },
  {
   "cell_type": "code",
   "execution_count": 5,
   "id": "c4279a80",
   "metadata": {},
   "outputs": [
    {
     "data": {
      "text/plain": [
       "Index(['order_id_new', 'order_try_id_new', 'calc_created', 'metered_price',\n",
       "       'upfront_price', 'distance', 'duration', 'gps_confidence', 'entered_by',\n",
       "       'b_state', 'dest_change_number', 'prediction_price_type',\n",
       "       'predicted_distance', 'predicted_duration', 'change_reason_pricing',\n",
       "       'ticket_id_new', 'device_token', 'rider_app_version', 'order_state',\n",
       "       'order_try_state', 'driver_app_version', 'driver_device_uid_new',\n",
       "       'device_name', 'eu_indicator', 'overpaid_ride_ticket', 'fraud_score'],\n",
       "      dtype='object')"
      ]
     },
     "execution_count": 5,
     "metadata": {},
     "output_type": "execute_result"
    }
   ],
   "source": [
    "df.columns"
   ]
  },
  {
   "cell_type": "code",
   "execution_count": 6,
   "id": "530d2122",
   "metadata": {},
   "outputs": [
    {
     "data": {
      "text/plain": [
       "order_id_new               int64\n",
       "order_try_id_new           int64\n",
       "calc_created              object\n",
       "metered_price            float64\n",
       "upfront_price            float64\n",
       "distance                   int64\n",
       "duration                   int64\n",
       "gps_confidence             int64\n",
       "entered_by                object\n",
       "b_state                   object\n",
       "dest_change_number         int64\n",
       "prediction_price_type     object\n",
       "predicted_distance       float64\n",
       "predicted_duration       float64\n",
       "change_reason_pricing     object\n",
       "ticket_id_new              int64\n",
       "device_token             float64\n",
       "rider_app_version         object\n",
       "order_state               object\n",
       "order_try_state           object\n",
       "driver_app_version        object\n",
       "driver_device_uid_new      int64\n",
       "device_name               object\n",
       "eu_indicator               int64\n",
       "overpaid_ride_ticket       int64\n",
       "fraud_score              float64\n",
       "dtype: object"
      ]
     },
     "execution_count": 6,
     "metadata": {},
     "output_type": "execute_result"
    }
   ],
   "source": [
    "df.dtypes"
   ]
  },
  {
   "cell_type": "code",
   "execution_count": 7,
   "id": "629c8a0a",
   "metadata": {},
   "outputs": [
    {
     "data": {
      "text/plain": [
       "order_id_new             0.000000\n",
       "order_try_id_new         0.000000\n",
       "calc_created             0.000000\n",
       "metered_price            0.004046\n",
       "upfront_price            0.310338\n",
       "distance                 0.000000\n",
       "duration                 0.000000\n",
       "gps_confidence           0.000000\n",
       "entered_by               0.000000\n",
       "b_state                  0.000000\n",
       "dest_change_number       0.000000\n",
       "prediction_price_type    0.004046\n",
       "predicted_distance       0.004046\n",
       "predicted_duration       0.004046\n",
       "change_reason_pricing    0.939713\n",
       "ticket_id_new            0.000000\n",
       "device_token             1.000000\n",
       "rider_app_version        0.003237\n",
       "order_state              0.000000\n",
       "order_try_state          0.000000\n",
       "driver_app_version       0.000000\n",
       "driver_device_uid_new    0.000000\n",
       "device_name              0.000000\n",
       "eu_indicator             0.000000\n",
       "overpaid_ride_ticket     0.000000\n",
       "fraud_score              0.558163\n",
       "dtype: float64"
      ]
     },
     "execution_count": 7,
     "metadata": {},
     "output_type": "execute_result"
    }
   ],
   "source": [
    "df.isna().mean()"
   ]
  },
  {
   "cell_type": "code",
   "execution_count": 8,
   "id": "e8484c86",
   "metadata": {},
   "outputs": [
    {
     "data": {
      "text/plain": [
       "0    4606\n",
       "1     337\n",
       "Name: overpaid_ride_ticket, dtype: int64"
      ]
     },
     "execution_count": 8,
     "metadata": {},
     "output_type": "execute_result"
    }
   ],
   "source": [
    "df['overpaid_ride_ticket'].value_counts()"
   ]
  },
  {
   "cell_type": "code",
   "execution_count": 9,
   "id": "180d6ce8",
   "metadata": {},
   "outputs": [
    {
     "data": {
      "text/plain": [
       "client      4722\n",
       "driver       216\n",
       "reseller       5\n",
       "Name: entered_by, dtype: int64"
      ]
     },
     "execution_count": 9,
     "metadata": {},
     "output_type": "execute_result"
    }
   ],
   "source": [
    "df['entered_by'].value_counts()"
   ]
  },
  {
   "cell_type": "markdown",
   "id": "b045b5fe",
   "metadata": {},
   "source": [
    "# Exploring Variables"
   ]
  },
  {
   "cell_type": "markdown",
   "id": "d974aade",
   "metadata": {},
   "source": [
    "## overpaid_ride_ticket"
   ]
  },
  {
   "cell_type": "code",
   "execution_count": 10,
   "id": "787544ae",
   "metadata": {},
   "outputs": [
    {
     "data": {
      "text/plain": [
       "count    4943.0\n",
       "sum         0.0\n",
       "mean        0.0\n",
       "Name: overpaid_ride_ticket, dtype: float64"
      ]
     },
     "execution_count": 10,
     "metadata": {},
     "output_type": "execute_result"
    }
   ],
   "source": [
    "df['overpaid_ride_ticket'].isna().agg(['count','sum','mean'])"
   ]
  },
  {
   "cell_type": "code",
   "execution_count": 11,
   "id": "12a8e9dd",
   "metadata": {},
   "outputs": [
    {
     "data": {
      "text/plain": [
       "count    4943.000000\n",
       "sum       337.000000\n",
       "mean        0.068177\n",
       "Name: overpaid_ride_ticket, dtype: float64"
      ]
     },
     "execution_count": 11,
     "metadata": {},
     "output_type": "execute_result"
    }
   ],
   "source": [
    "df['overpaid_ride_ticket'].agg(['count','sum','mean'])"
   ]
  },
  {
   "cell_type": "markdown",
   "id": "c760f7da",
   "metadata": {},
   "source": [
    "## metered_price"
   ]
  },
  {
   "cell_type": "code",
   "execution_count": 12,
   "id": "9fac823c",
   "metadata": {},
   "outputs": [
    {
     "data": {
      "text/plain": [
       "count    4943.000000\n",
       "sum        20.000000\n",
       "mean        0.004046\n",
       "Name: metered_price, dtype: float64"
      ]
     },
     "execution_count": 12,
     "metadata": {},
     "output_type": "execute_result"
    }
   ],
   "source": [
    "df['metered_price'].isna().agg(['count','sum','mean'])"
   ]
  },
  {
   "cell_type": "code",
   "execution_count": 13,
   "id": "b0e509c5",
   "metadata": {},
   "outputs": [
    {
     "data": {
      "text/plain": [
       "<Axes: >"
      ]
     },
     "execution_count": 13,
     "metadata": {},
     "output_type": "execute_result"
    },
    {
     "data": {
      "image/png": "[encoded data removed]",
      "text/plain": [
       "<Figure size 640x480 with 1 Axes>"
      ]
     },
     "metadata": {},
     "output_type": "display_data"
    }
   ],
   "source": [
    "df['metered_price'].hist(bins=50)"
   ]
  },
  {
   "cell_type": "code",
   "execution_count": 14,
   "id": "a16a14c0",
   "metadata": {},
   "outputs": [],
   "source": [
    "df['metered_price_category'] = pd.qcut(df['metered_price'],5)"
   ]
  },
  {
   "cell_type": "code",
   "execution_count": 15,
   "id": "38527ebf",
   "metadata": {},
   "outputs": [
    {
     "data": {
      "text/plain": [
       "(8.25, 6000.0]          1291\n",
       "(1.999, 4.72]            992\n",
       "(13835.1, 194483.52]     985\n",
       "(4.72, 8.25]             978\n",
       "(6000.0, 13835.1]        677\n",
       "Name: metered_price_category, dtype: int64"
      ]
     },
     "execution_count": 15,
     "metadata": {},
     "output_type": "execute_result"
    }
   ],
   "source": [
    "df['metered_price_category'].value_counts()"
   ]
  },
  {
   "cell_type": "code",
   "execution_count": 16,
   "id": "aa0286d9",
   "metadata": {
    "scrolled": true
   },
   "outputs": [
    {
     "data": {
      "text/html": [
       "<div>\n",
       "<style scoped>\n",
       "    .dataframe tbody tr th:only-of-type {\n",
       "        vertical-align: middle;\n",
       "    }\n",
       "\n",
       "    .dataframe tbody tr th {\n",
       "        vertical-align: top;\n",
       "    }\n",
       "\n",
       "    .dataframe thead th {\n",
       "        text-align: right;\n",
       "    }\n",
       "</style>\n",
       "<table border=\"1\" class=\"dataframe\">\n",
       "  <thead>\n",
       "    <tr style=\"text-align: right;\">\n",
       "      <th></th>\n",
       "      <th>count</th>\n",
       "      <th>sum</th>\n",
       "      <th>mean</th>\n",
       "    </tr>\n",
       "    <tr>\n",
       "      <th>metered_price_category</th>\n",
       "      <th></th>\n",
       "      <th></th>\n",
       "      <th></th>\n",
       "    </tr>\n",
       "  </thead>\n",
       "  <tbody>\n",
       "    <tr>\n",
       "      <th>(1.999, 4.72]</th>\n",
       "      <td>992</td>\n",
       "      <td>0</td>\n",
       "      <td>0.000000</td>\n",
       "    </tr>\n",
       "    <tr>\n",
       "      <th>(4.72, 8.25]</th>\n",
       "      <td>978</td>\n",
       "      <td>5</td>\n",
       "      <td>0.005112</td>\n",
       "    </tr>\n",
       "    <tr>\n",
       "      <th>(8.25, 6000.0]</th>\n",
       "      <td>1291</td>\n",
       "      <td>52</td>\n",
       "      <td>0.040279</td>\n",
       "    </tr>\n",
       "    <tr>\n",
       "      <th>(6000.0, 13835.1]</th>\n",
       "      <td>677</td>\n",
       "      <td>94</td>\n",
       "      <td>0.138848</td>\n",
       "    </tr>\n",
       "    <tr>\n",
       "      <th>(13835.1, 194483.52]</th>\n",
       "      <td>985</td>\n",
       "      <td>186</td>\n",
       "      <td>0.188832</td>\n",
       "    </tr>\n",
       "  </tbody>\n",
       "</table>\n",
       "</div>"
      ],
      "text/plain": [
       "                        count  sum      mean\n",
       "metered_price_category                      \n",
       "(1.999, 4.72]             992    0  0.000000\n",
       "(4.72, 8.25]              978    5  0.005112\n",
       "(8.25, 6000.0]           1291   52  0.040279\n",
       "(6000.0, 13835.1]         677   94  0.138848\n",
       "(13835.1, 194483.52]      985  186  0.188832"
      ]
     },
     "execution_count": 16,
     "metadata": {},
     "output_type": "execute_result"
    }
   ],
   "source": [
    "df.groupby('metered_price_category')['overpaid_ride_ticket'].agg(['count','sum','mean'])"
   ]
  },
  {
   "cell_type": "markdown",
   "id": "1761cbbc",
   "metadata": {},
   "source": [
    "Most overpaid rides are concentrated in the two highest metered_price categories."
   ]
  },
  {
   "cell_type": "code",
   "execution_count": 17,
   "id": "51495a9e",
   "metadata": {
    "scrolled": true
   },
   "outputs": [
    {
     "data": {
      "text/html": [
       "<div>\n",
       "<style scoped>\n",
       "    .dataframe tbody tr th:only-of-type {\n",
       "        vertical-align: middle;\n",
       "    }\n",
       "\n",
       "    .dataframe tbody tr th {\n",
       "        vertical-align: top;\n",
       "    }\n",
       "\n",
       "    .dataframe thead th {\n",
       "        text-align: right;\n",
       "    }\n",
       "</style>\n",
       "<table border=\"1\" class=\"dataframe\">\n",
       "  <thead>\n",
       "    <tr style=\"text-align: right;\">\n",
       "      <th></th>\n",
       "      <th></th>\n",
       "      <th>count</th>\n",
       "      <th>sum</th>\n",
       "      <th>mean</th>\n",
       "    </tr>\n",
       "    <tr>\n",
       "      <th>metered_price_category</th>\n",
       "      <th>gps_confidence</th>\n",
       "      <th></th>\n",
       "      <th></th>\n",
       "      <th></th>\n",
       "    </tr>\n",
       "  </thead>\n",
       "  <tbody>\n",
       "    <tr>\n",
       "      <th rowspan=\"2\" valign=\"top\">(1.999, 4.72]</th>\n",
       "      <th>0</th>\n",
       "      <td>25</td>\n",
       "      <td>0</td>\n",
       "      <td>0.000000</td>\n",
       "    </tr>\n",
       "    <tr>\n",
       "      <th>1</th>\n",
       "      <td>967</td>\n",
       "      <td>0</td>\n",
       "      <td>0.000000</td>\n",
       "    </tr>\n",
       "    <tr>\n",
       "      <th rowspan=\"2\" valign=\"top\">(4.72, 8.25]</th>\n",
       "      <th>0</th>\n",
       "      <td>36</td>\n",
       "      <td>1</td>\n",
       "      <td>0.027778</td>\n",
       "    </tr>\n",
       "    <tr>\n",
       "      <th>1</th>\n",
       "      <td>942</td>\n",
       "      <td>4</td>\n",
       "      <td>0.004246</td>\n",
       "    </tr>\n",
       "    <tr>\n",
       "      <th rowspan=\"2\" valign=\"top\">(8.25, 6000.0]</th>\n",
       "      <th>0</th>\n",
       "      <td>163</td>\n",
       "      <td>14</td>\n",
       "      <td>0.085890</td>\n",
       "    </tr>\n",
       "    <tr>\n",
       "      <th>1</th>\n",
       "      <td>1128</td>\n",
       "      <td>38</td>\n",
       "      <td>0.033688</td>\n",
       "    </tr>\n",
       "    <tr>\n",
       "      <th rowspan=\"2\" valign=\"top\">(6000.0, 13835.1]</th>\n",
       "      <th>0</th>\n",
       "      <td>228</td>\n",
       "      <td>44</td>\n",
       "      <td>0.192982</td>\n",
       "    </tr>\n",
       "    <tr>\n",
       "      <th>1</th>\n",
       "      <td>449</td>\n",
       "      <td>50</td>\n",
       "      <td>0.111359</td>\n",
       "    </tr>\n",
       "    <tr>\n",
       "      <th rowspan=\"2\" valign=\"top\">(13835.1, 194483.52]</th>\n",
       "      <th>0</th>\n",
       "      <td>531</td>\n",
       "      <td>142</td>\n",
       "      <td>0.267420</td>\n",
       "    </tr>\n",
       "    <tr>\n",
       "      <th>1</th>\n",
       "      <td>454</td>\n",
       "      <td>44</td>\n",
       "      <td>0.096916</td>\n",
       "    </tr>\n",
       "  </tbody>\n",
       "</table>\n",
       "</div>"
      ],
      "text/plain": [
       "                                       count  sum      mean\n",
       "metered_price_category gps_confidence                      \n",
       "(1.999, 4.72]          0                  25    0  0.000000\n",
       "                       1                 967    0  0.000000\n",
       "(4.72, 8.25]           0                  36    1  0.027778\n",
       "                       1                 942    4  0.004246\n",
       "(8.25, 6000.0]         0                 163   14  0.085890\n",
       "                       1                1128   38  0.033688\n",
       "(6000.0, 13835.1]      0                 228   44  0.192982\n",
       "                       1                 449   50  0.111359\n",
       "(13835.1, 194483.52]   0                 531  142  0.267420\n",
       "                       1                 454   44  0.096916"
      ]
     },
     "execution_count": 17,
     "metadata": {},
     "output_type": "execute_result"
    }
   ],
   "source": [
    "df.groupby(['metered_price_category','gps_confidence'])['overpaid_ride_ticket'].agg(['count','sum','mean'])"
   ]
  },
  {
   "cell_type": "markdown",
   "id": "108db2ea",
   "metadata": {},
   "source": [
    "The share of overpaid rides is larger in the higher metered_price categories, even with good GPS."
   ]
  },
  {
   "cell_type": "markdown",
   "id": "0144b21b",
   "metadata": {},
   "source": [
    "## upfront_price"
   ]
  },
  {
   "cell_type": "code",
   "execution_count": 18,
   "id": "6866e4de",
   "metadata": {
    "scrolled": true
   },
   "outputs": [
    {
     "data": {
      "text/plain": [
       "count    4943.000000\n",
       "sum      1534.000000\n",
       "mean        0.310338\n",
       "Name: upfront_price, dtype: float64"
      ]
     },
     "execution_count": 18,
     "metadata": {},
     "output_type": "execute_result"
    }
   ],
   "source": [
    "df['upfront_price'].isna().agg(['count','sum','mean'])"
   ]
  },
  {
   "cell_type": "code",
   "execution_count": 19,
   "id": "a302cd41",
   "metadata": {},
   "outputs": [
    {
     "data": {
      "text/plain": [
       "order_id_new              613\n",
       "order_try_id_new          613\n",
       "calc_created              613\n",
       "metered_price             611\n",
       "upfront_price               0\n",
       "distance                  613\n",
       "duration                  613\n",
       "gps_confidence            613\n",
       "entered_by                613\n",
       "b_state                   613\n",
       "dest_change_number        613\n",
       "prediction_price_type     611\n",
       "predicted_distance        611\n",
       "predicted_duration        611\n",
       "change_reason_pricing      74\n",
       "ticket_id_new             613\n",
       "device_token                0\n",
       "rider_app_version         611\n",
       "order_state               613\n",
       "order_try_state           613\n",
       "driver_app_version        613\n",
       "driver_device_uid_new     613\n",
       "device_name               613\n",
       "eu_indicator              613\n",
       "overpaid_ride_ticket      613\n",
       "fraud_score                47\n",
       "metered_price_category    611\n",
       "dtype: int64"
      ]
     },
     "execution_count": 19,
     "metadata": {},
     "output_type": "execute_result"
    }
   ],
   "source": [
    "df[(df['gps_confidence'] == 0) & (df['upfront_price'].isna() == True)].count()"
   ]
  },
  {
   "cell_type": "code",
   "execution_count": 20,
   "id": "e9a28417",
   "metadata": {},
   "outputs": [],
   "source": [
    "df['upfront_price_category'] = pd.qcut(df['upfront_price'],5)"
   ]
  },
  {
   "cell_type": "code",
   "execution_count": 21,
   "id": "cc3a08a0",
   "metadata": {},
   "outputs": [
    {
     "data": {
      "text/plain": [
       "(1.999, 3.8]          705\n",
       "(3.8, 5.5]            693\n",
       "(8.6, 7000.0]         691\n",
       "(7000.0, 595000.0]    662\n",
       "(5.5, 8.6]            658\n",
       "Name: upfront_price_category, dtype: int64"
      ]
     },
     "execution_count": 21,
     "metadata": {},
     "output_type": "execute_result"
    }
   ],
   "source": [
    "df['upfront_price_category'].value_counts()"
   ]
  },
  {
   "cell_type": "code",
   "execution_count": 22,
   "id": "21bf94a4",
   "metadata": {},
   "outputs": [
    {
     "data": {
      "text/html": [
       "<div>\n",
       "<style scoped>\n",
       "    .dataframe tbody tr th:only-of-type {\n",
       "        vertical-align: middle;\n",
       "    }\n",
       "\n",
       "    .dataframe tbody tr th {\n",
       "        vertical-align: top;\n",
       "    }\n",
       "\n",
       "    .dataframe thead th {\n",
       "        text-align: right;\n",
       "    }\n",
       "</style>\n",
       "<table border=\"1\" class=\"dataframe\">\n",
       "  <thead>\n",
       "    <tr style=\"text-align: right;\">\n",
       "      <th></th>\n",
       "      <th>count</th>\n",
       "      <th>sum</th>\n",
       "      <th>mean</th>\n",
       "    </tr>\n",
       "    <tr>\n",
       "      <th>upfront_price_category</th>\n",
       "      <th></th>\n",
       "      <th></th>\n",
       "      <th></th>\n",
       "    </tr>\n",
       "  </thead>\n",
       "  <tbody>\n",
       "    <tr>\n",
       "      <th>(1.999, 3.8]</th>\n",
       "      <td>705</td>\n",
       "      <td>1</td>\n",
       "      <td>0.001418</td>\n",
       "    </tr>\n",
       "    <tr>\n",
       "      <th>(3.8, 5.5]</th>\n",
       "      <td>693</td>\n",
       "      <td>5</td>\n",
       "      <td>0.007215</td>\n",
       "    </tr>\n",
       "    <tr>\n",
       "      <th>(5.5, 8.6]</th>\n",
       "      <td>658</td>\n",
       "      <td>2</td>\n",
       "      <td>0.003040</td>\n",
       "    </tr>\n",
       "    <tr>\n",
       "      <th>(8.6, 7000.0]</th>\n",
       "      <td>691</td>\n",
       "      <td>25</td>\n",
       "      <td>0.036179</td>\n",
       "    </tr>\n",
       "    <tr>\n",
       "      <th>(7000.0, 595000.0]</th>\n",
       "      <td>662</td>\n",
       "      <td>75</td>\n",
       "      <td>0.113293</td>\n",
       "    </tr>\n",
       "  </tbody>\n",
       "</table>\n",
       "</div>"
      ],
      "text/plain": [
       "                        count  sum      mean\n",
       "upfront_price_category                      \n",
       "(1.999, 3.8]              705    1  0.001418\n",
       "(3.8, 5.5]                693    5  0.007215\n",
       "(5.5, 8.6]                658    2  0.003040\n",
       "(8.6, 7000.0]             691   25  0.036179\n",
       "(7000.0, 595000.0]        662   75  0.113293"
      ]
     },
     "execution_count": 22,
     "metadata": {},
     "output_type": "execute_result"
    }
   ],
   "source": [
    "df.groupby('upfront_price_category')['overpaid_ride_ticket'].agg(['count','sum','mean'])"
   ]
  },
  {
   "cell_type": "markdown",
   "id": "41c18cb1",
   "metadata": {},
   "source": [
    "Shunning NaNs, most overpaid rides are concentrated in the two highest upfront_price categories."
   ]
  },
  {
   "cell_type": "markdown",
   "id": "2a95d3f8",
   "metadata": {},
   "source": [
    "## dest_change_number"
   ]
  },
  {
   "cell_type": "code",
   "execution_count": 23,
   "id": "54ee9bf7",
   "metadata": {},
   "outputs": [
    {
     "data": {
      "text/plain": [
       "count    4943.0\n",
       "sum         0.0\n",
       "mean        0.0\n",
       "Name: dest_change_number, dtype: float64"
      ]
     },
     "execution_count": 23,
     "metadata": {},
     "output_type": "execute_result"
    }
   ],
   "source": [
    "df['dest_change_number'].isna().agg(['count','sum','mean'])"
   ]
  },
  {
   "cell_type": "code",
   "execution_count": 24,
   "id": "c2c95c56",
   "metadata": {},
   "outputs": [
    {
     "data": {
      "text/plain": [
       "1     4555\n",
       "2      260\n",
       "3       89\n",
       "4       21\n",
       "5       12\n",
       "6        2\n",
       "7        2\n",
       "9        1\n",
       "12       1\n",
       "Name: dest_change_number, dtype: int64"
      ]
     },
     "execution_count": 24,
     "metadata": {},
     "output_type": "execute_result"
    }
   ],
   "source": [
    "df['dest_change_number'].value_counts()"
   ]
  },
  {
   "cell_type": "code",
   "execution_count": 25,
   "id": "8ca70f6a",
   "metadata": {},
   "outputs": [
    {
     "data": {
      "text/html": [
       "<div>\n",
       "<style scoped>\n",
       "    .dataframe tbody tr th:only-of-type {\n",
       "        vertical-align: middle;\n",
       "    }\n",
       "\n",
       "    .dataframe tbody tr th {\n",
       "        vertical-align: top;\n",
       "    }\n",
       "\n",
       "    .dataframe thead th {\n",
       "        text-align: right;\n",
       "    }\n",
       "</style>\n",
       "<table border=\"1\" class=\"dataframe\">\n",
       "  <thead>\n",
       "    <tr style=\"text-align: right;\">\n",
       "      <th></th>\n",
       "      <th>count</th>\n",
       "      <th>sum</th>\n",
       "      <th>mean</th>\n",
       "    </tr>\n",
       "    <tr>\n",
       "      <th>dest_change_number</th>\n",
       "      <th></th>\n",
       "      <th></th>\n",
       "      <th></th>\n",
       "    </tr>\n",
       "  </thead>\n",
       "  <tbody>\n",
       "    <tr>\n",
       "      <th>1</th>\n",
       "      <td>4555</td>\n",
       "      <td>324</td>\n",
       "      <td>0.071131</td>\n",
       "    </tr>\n",
       "    <tr>\n",
       "      <th>2</th>\n",
       "      <td>260</td>\n",
       "      <td>11</td>\n",
       "      <td>0.042308</td>\n",
       "    </tr>\n",
       "    <tr>\n",
       "      <th>3</th>\n",
       "      <td>89</td>\n",
       "      <td>1</td>\n",
       "      <td>0.011236</td>\n",
       "    </tr>\n",
       "    <tr>\n",
       "      <th>4</th>\n",
       "      <td>21</td>\n",
       "      <td>0</td>\n",
       "      <td>0.000000</td>\n",
       "    </tr>\n",
       "    <tr>\n",
       "      <th>5</th>\n",
       "      <td>12</td>\n",
       "      <td>1</td>\n",
       "      <td>0.083333</td>\n",
       "    </tr>\n",
       "    <tr>\n",
       "      <th>6</th>\n",
       "      <td>2</td>\n",
       "      <td>0</td>\n",
       "      <td>0.000000</td>\n",
       "    </tr>\n",
       "    <tr>\n",
       "      <th>7</th>\n",
       "      <td>2</td>\n",
       "      <td>0</td>\n",
       "      <td>0.000000</td>\n",
       "    </tr>\n",
       "    <tr>\n",
       "      <th>9</th>\n",
       "      <td>1</td>\n",
       "      <td>0</td>\n",
       "      <td>0.000000</td>\n",
       "    </tr>\n",
       "    <tr>\n",
       "      <th>12</th>\n",
       "      <td>1</td>\n",
       "      <td>0</td>\n",
       "      <td>0.000000</td>\n",
       "    </tr>\n",
       "  </tbody>\n",
       "</table>\n",
       "</div>"
      ],
      "text/plain": [
       "                    count  sum      mean\n",
       "dest_change_number                      \n",
       "1                    4555  324  0.071131\n",
       "2                     260   11  0.042308\n",
       "3                      89    1  0.011236\n",
       "4                      21    0  0.000000\n",
       "5                      12    1  0.083333\n",
       "6                       2    0  0.000000\n",
       "7                       2    0  0.000000\n",
       "9                       1    0  0.000000\n",
       "12                      1    0  0.000000"
      ]
     },
     "execution_count": 25,
     "metadata": {},
     "output_type": "execute_result"
    }
   ],
   "source": [
    "df.groupby('dest_change_number')['overpaid_ride_ticket'].agg(['count','sum','mean'])"
   ]
  },
  {
   "cell_type": "markdown",
   "id": "a23788a7",
   "metadata": {},
   "source": [
    "I don't see 0 in dest_change_number, so I reckon 1 indicates the initial destination of the ride, meaning that the destination wasn't actually changed during the ride."
   ]
  },
  {
   "cell_type": "code",
   "execution_count": 26,
   "id": "971ce6f4",
   "metadata": {},
   "outputs": [
    {
     "data": {
      "text/plain": [
       "driver_waypoint_changed    6\n",
       "Name: change_reason_pricing, dtype: int64"
      ]
     },
     "execution_count": 26,
     "metadata": {},
     "output_type": "execute_result"
    }
   ],
   "source": [
    "(df[df['dest_change_number'] == 1])['change_reason_pricing'].value_counts()"
   ]
  },
  {
   "cell_type": "code",
   "execution_count": 27,
   "id": "f84eac82",
   "metadata": {},
   "outputs": [
    {
     "data": {
      "text/plain": [
       "driver_destination_changed    150\n",
       "client_destination_changed    142\n",
       "driver_waypoint_changed         6\n",
       "Name: change_reason_pricing, dtype: int64"
      ]
     },
     "execution_count": 27,
     "metadata": {},
     "output_type": "execute_result"
    }
   ],
   "source": [
    "df['change_reason_pricing'].value_counts()"
   ]
  },
  {
   "cell_type": "markdown",
   "id": "7d80ac0d",
   "metadata": {},
   "source": [
    "*change_reason_pricing* stores info on due to whose action the price changed. When I look at rides with *dest_change_number* == 1, I see that the change of destination isn't listed as a factor of price change. Essentially, that proves the hypothesis that *dest_change_number* = 1 equals to not changing the destination.\n",
    "\n",
    "To make it clear, NaNs in *change_reason_pricing* indicate that the price didn't change in the result of driver's or rider's actions."
   ]
  },
  {
   "cell_type": "code",
   "execution_count": 28,
   "id": "2fb9610d",
   "metadata": {},
   "outputs": [
    {
     "data": {
      "text/html": [
       "<div>\n",
       "<style scoped>\n",
       "    .dataframe tbody tr th:only-of-type {\n",
       "        vertical-align: middle;\n",
       "    }\n",
       "\n",
       "    .dataframe tbody tr th {\n",
       "        vertical-align: top;\n",
       "    }\n",
       "\n",
       "    .dataframe thead th {\n",
       "        text-align: right;\n",
       "    }\n",
       "</style>\n",
       "<table border=\"1\" class=\"dataframe\">\n",
       "  <thead>\n",
       "    <tr style=\"text-align: right;\">\n",
       "      <th></th>\n",
       "      <th>count</th>\n",
       "      <th>sum</th>\n",
       "      <th>mean</th>\n",
       "    </tr>\n",
       "    <tr>\n",
       "      <th>change_reason_pricing</th>\n",
       "      <th></th>\n",
       "      <th></th>\n",
       "      <th></th>\n",
       "    </tr>\n",
       "  </thead>\n",
       "  <tbody>\n",
       "    <tr>\n",
       "      <th>client_destination_changed</th>\n",
       "      <td>142</td>\n",
       "      <td>12</td>\n",
       "      <td>0.084507</td>\n",
       "    </tr>\n",
       "    <tr>\n",
       "      <th>driver_destination_changed</th>\n",
       "      <td>150</td>\n",
       "      <td>0</td>\n",
       "      <td>0.000000</td>\n",
       "    </tr>\n",
       "    <tr>\n",
       "      <th>driver_waypoint_changed</th>\n",
       "      <td>6</td>\n",
       "      <td>0</td>\n",
       "      <td>0.000000</td>\n",
       "    </tr>\n",
       "  </tbody>\n",
       "</table>\n",
       "</div>"
      ],
      "text/plain": [
       "                            count  sum      mean\n",
       "change_reason_pricing                           \n",
       "client_destination_changed    142   12  0.084507\n",
       "driver_destination_changed    150    0  0.000000\n",
       "driver_waypoint_changed         6    0  0.000000"
      ]
     },
     "execution_count": 28,
     "metadata": {},
     "output_type": "execute_result"
    }
   ],
   "source": [
    "df.groupby('change_reason_pricing')['overpaid_ride_ticket'].agg(['count','sum','mean'])"
   ]
  },
  {
   "cell_type": "markdown",
   "id": "5e56e16b",
   "metadata": {},
   "source": [
    "When the price changed in the result of driver's/rider's actions, the only overpriced rides are those where the rider changed the destination. However, the data are insufficient to make any significant conclusions."
   ]
  },
  {
   "cell_type": "markdown",
   "id": "c6295ad5",
   "metadata": {},
   "source": [
    "## prediction_price_type"
   ]
  },
  {
   "cell_type": "code",
   "execution_count": 29,
   "id": "4a6583a8",
   "metadata": {},
   "outputs": [
    {
     "data": {
      "text/plain": [
       "count    4943.000000\n",
       "sum        20.000000\n",
       "mean        0.004046\n",
       "Name: prediction_price_type, dtype: float64"
      ]
     },
     "execution_count": 29,
     "metadata": {},
     "output_type": "execute_result"
    }
   ],
   "source": [
    "df['prediction_price_type'].isna().agg(['count','sum','mean'])"
   ]
  },
  {
   "cell_type": "code",
   "execution_count": 30,
   "id": "a7e71e98",
   "metadata": {},
   "outputs": [
    {
     "data": {
      "text/plain": [
       "upfront                        3432\n",
       "prediction                     1279\n",
       "upfront_destination_changed     208\n",
       "upfront_waypoint_changed          4\n",
       "Name: prediction_price_type, dtype: int64"
      ]
     },
     "execution_count": 30,
     "metadata": {},
     "output_type": "execute_result"
    }
   ],
   "source": [
    "df['prediction_price_type'].value_counts()"
   ]
  },
  {
   "cell_type": "code",
   "execution_count": 31,
   "id": "1ab20280",
   "metadata": {},
   "outputs": [
    {
     "data": {
      "text/html": [
       "<div>\n",
       "<style scoped>\n",
       "    .dataframe tbody tr th:only-of-type {\n",
       "        vertical-align: middle;\n",
       "    }\n",
       "\n",
       "    .dataframe tbody tr th {\n",
       "        vertical-align: top;\n",
       "    }\n",
       "\n",
       "    .dataframe thead th {\n",
       "        text-align: right;\n",
       "    }\n",
       "</style>\n",
       "<table border=\"1\" class=\"dataframe\">\n",
       "  <thead>\n",
       "    <tr style=\"text-align: right;\">\n",
       "      <th></th>\n",
       "      <th>count</th>\n",
       "      <th>sum</th>\n",
       "      <th>mean</th>\n",
       "    </tr>\n",
       "    <tr>\n",
       "      <th>prediction_price_type</th>\n",
       "      <th></th>\n",
       "      <th></th>\n",
       "      <th></th>\n",
       "    </tr>\n",
       "  </thead>\n",
       "  <tbody>\n",
       "    <tr>\n",
       "      <th>prediction</th>\n",
       "      <td>1279</td>\n",
       "      <td>222</td>\n",
       "      <td>0.173573</td>\n",
       "    </tr>\n",
       "    <tr>\n",
       "      <th>upfront</th>\n",
       "      <td>3432</td>\n",
       "      <td>112</td>\n",
       "      <td>0.032634</td>\n",
       "    </tr>\n",
       "    <tr>\n",
       "      <th>upfront_destination_changed</th>\n",
       "      <td>208</td>\n",
       "      <td>3</td>\n",
       "      <td>0.014423</td>\n",
       "    </tr>\n",
       "    <tr>\n",
       "      <th>upfront_waypoint_changed</th>\n",
       "      <td>4</td>\n",
       "      <td>0</td>\n",
       "      <td>0.000000</td>\n",
       "    </tr>\n",
       "  </tbody>\n",
       "</table>\n",
       "</div>"
      ],
      "text/plain": [
       "                             count  sum      mean\n",
       "prediction_price_type                            \n",
       "prediction                    1279  222  0.173573\n",
       "upfront                       3432  112  0.032634\n",
       "upfront_destination_changed    208    3  0.014423\n",
       "upfront_waypoint_changed         4    0  0.000000"
      ]
     },
     "execution_count": 31,
     "metadata": {},
     "output_type": "execute_result"
    }
   ],
   "source": [
    "df.groupby('prediction_price_type')['overpaid_ride_ticket'].agg(['count','sum','mean'])"
   ]
  },
  {
   "cell_type": "markdown",
   "id": "0416d13c",
   "metadata": {},
   "source": [
    "The absolute majority of the overpaid rides are in *prediction* prediction_price_type."
   ]
  },
  {
   "cell_type": "markdown",
   "id": "ae7406f6",
   "metadata": {},
   "source": [
    "## eu_indicator"
   ]
  },
  {
   "cell_type": "code",
   "execution_count": 32,
   "id": "51d38ba2",
   "metadata": {},
   "outputs": [
    {
     "data": {
      "text/plain": [
       "count    4943.0\n",
       "sum         0.0\n",
       "mean        0.0\n",
       "Name: eu_indicator, dtype: float64"
      ]
     },
     "execution_count": 32,
     "metadata": {},
     "output_type": "execute_result"
    }
   ],
   "source": [
    "df['eu_indicator'].isna().agg(['count','sum','mean'])"
   ]
  },
  {
   "cell_type": "code",
   "execution_count": 33,
   "id": "af9ef886",
   "metadata": {},
   "outputs": [
    {
     "data": {
      "text/plain": [
       "1    2770\n",
       "0    2173\n",
       "Name: eu_indicator, dtype: int64"
      ]
     },
     "execution_count": 33,
     "metadata": {},
     "output_type": "execute_result"
    }
   ],
   "source": [
    "df['eu_indicator'].value_counts()"
   ]
  },
  {
   "cell_type": "code",
   "execution_count": 34,
   "id": "dd8f3a6a",
   "metadata": {},
   "outputs": [
    {
     "data": {
      "text/html": [
       "<div>\n",
       "<style scoped>\n",
       "    .dataframe tbody tr th:only-of-type {\n",
       "        vertical-align: middle;\n",
       "    }\n",
       "\n",
       "    .dataframe tbody tr th {\n",
       "        vertical-align: top;\n",
       "    }\n",
       "\n",
       "    .dataframe thead th {\n",
       "        text-align: right;\n",
       "    }\n",
       "</style>\n",
       "<table border=\"1\" class=\"dataframe\">\n",
       "  <thead>\n",
       "    <tr style=\"text-align: right;\">\n",
       "      <th></th>\n",
       "      <th>count</th>\n",
       "      <th>sum</th>\n",
       "      <th>mean</th>\n",
       "    </tr>\n",
       "    <tr>\n",
       "      <th>eu_indicator</th>\n",
       "      <th></th>\n",
       "      <th></th>\n",
       "      <th></th>\n",
       "    </tr>\n",
       "  </thead>\n",
       "  <tbody>\n",
       "    <tr>\n",
       "      <th>0</th>\n",
       "      <td>2173</td>\n",
       "      <td>324</td>\n",
       "      <td>0.149103</td>\n",
       "    </tr>\n",
       "    <tr>\n",
       "      <th>1</th>\n",
       "      <td>2770</td>\n",
       "      <td>13</td>\n",
       "      <td>0.004693</td>\n",
       "    </tr>\n",
       "  </tbody>\n",
       "</table>\n",
       "</div>"
      ],
      "text/plain": [
       "              count  sum      mean\n",
       "eu_indicator                      \n",
       "0              2173  324  0.149103\n",
       "1              2770   13  0.004693"
      ]
     },
     "execution_count": 34,
     "metadata": {},
     "output_type": "execute_result"
    }
   ],
   "source": [
    "df.groupby('eu_indicator')['overpaid_ride_ticket'].agg(['count','sum','mean'])"
   ]
  },
  {
   "cell_type": "markdown",
   "id": "f36c59e8",
   "metadata": {},
   "source": [
    "The absolute majority of overpaid rides have 0 in eu_indicator. However, the data description doesn't contain any info on what this variable means. I could speculate that it indicates whether a rider is a citizen of a EU country, but I don't have any evidence to back it up. So I leave this insight as is."
   ]
  },
  {
   "cell_type": "code",
   "execution_count": 35,
   "id": "66eddedf",
   "metadata": {},
   "outputs": [
    {
     "data": {
      "text/html": [
       "<div>\n",
       "<style scoped>\n",
       "    .dataframe tbody tr th:only-of-type {\n",
       "        vertical-align: middle;\n",
       "    }\n",
       "\n",
       "    .dataframe tbody tr th {\n",
       "        vertical-align: top;\n",
       "    }\n",
       "\n",
       "    .dataframe thead th {\n",
       "        text-align: right;\n",
       "    }\n",
       "</style>\n",
       "<table border=\"1\" class=\"dataframe\">\n",
       "  <thead>\n",
       "    <tr style=\"text-align: right;\">\n",
       "      <th></th>\n",
       "      <th></th>\n",
       "      <th>count</th>\n",
       "      <th>sum</th>\n",
       "      <th>mean</th>\n",
       "    </tr>\n",
       "    <tr>\n",
       "      <th>eu_indicator</th>\n",
       "      <th>gps_confidence</th>\n",
       "      <th></th>\n",
       "      <th></th>\n",
       "      <th></th>\n",
       "    </tr>\n",
       "  </thead>\n",
       "  <tbody>\n",
       "    <tr>\n",
       "      <th rowspan=\"2\" valign=\"top\">0</th>\n",
       "      <th>0</th>\n",
       "      <td>858</td>\n",
       "      <td>197</td>\n",
       "      <td>0.229604</td>\n",
       "    </tr>\n",
       "    <tr>\n",
       "      <th>1</th>\n",
       "      <td>1315</td>\n",
       "      <td>127</td>\n",
       "      <td>0.096578</td>\n",
       "    </tr>\n",
       "    <tr>\n",
       "      <th rowspan=\"2\" valign=\"top\">1</th>\n",
       "      <th>0</th>\n",
       "      <td>127</td>\n",
       "      <td>4</td>\n",
       "      <td>0.031496</td>\n",
       "    </tr>\n",
       "    <tr>\n",
       "      <th>1</th>\n",
       "      <td>2643</td>\n",
       "      <td>9</td>\n",
       "      <td>0.003405</td>\n",
       "    </tr>\n",
       "  </tbody>\n",
       "</table>\n",
       "</div>"
      ],
      "text/plain": [
       "                             count  sum      mean\n",
       "eu_indicator gps_confidence                      \n",
       "0            0                 858  197  0.229604\n",
       "             1                1315  127  0.096578\n",
       "1            0                 127    4  0.031496\n",
       "             1                2643    9  0.003405"
      ]
     },
     "execution_count": 35,
     "metadata": {},
     "output_type": "execute_result"
    }
   ],
   "source": [
    "df.groupby(['eu_indicator','gps_confidence'])['overpaid_ride_ticket'].agg(['count','sum','mean'])"
   ]
  },
  {
   "cell_type": "markdown",
   "id": "99e96edb",
   "metadata": {},
   "source": [
    "Anyway, eu_indicator alone doesn't tell much. Also, GPS confidence seems to be a more important factor than eu_indicator."
   ]
  },
  {
   "cell_type": "markdown",
   "id": "86d5a186",
   "metadata": {},
   "source": [
    "## gps_confidence"
   ]
  },
  {
   "cell_type": "code",
   "execution_count": 36,
   "id": "d6f86fc6",
   "metadata": {},
   "outputs": [
    {
     "data": {
      "text/plain": [
       "count    4943.0\n",
       "sum         0.0\n",
       "mean        0.0\n",
       "Name: gps_confidence, dtype: float64"
      ]
     },
     "execution_count": 36,
     "metadata": {},
     "output_type": "execute_result"
    }
   ],
   "source": [
    "df['gps_confidence'].isna().agg(['count','sum','mean'])"
   ]
  },
  {
   "cell_type": "code",
   "execution_count": 37,
   "id": "cd51ed84",
   "metadata": {},
   "outputs": [
    {
     "data": {
      "text/plain": [
       "1    3958\n",
       "0     985\n",
       "Name: gps_confidence, dtype: int64"
      ]
     },
     "execution_count": 37,
     "metadata": {},
     "output_type": "execute_result"
    }
   ],
   "source": [
    "df['gps_confidence'].value_counts()"
   ]
  },
  {
   "cell_type": "code",
   "execution_count": 38,
   "id": "261a4864",
   "metadata": {},
   "outputs": [
    {
     "data": {
      "text/html": [
       "<div>\n",
       "<style scoped>\n",
       "    .dataframe tbody tr th:only-of-type {\n",
       "        vertical-align: middle;\n",
       "    }\n",
       "\n",
       "    .dataframe tbody tr th {\n",
       "        vertical-align: top;\n",
       "    }\n",
       "\n",
       "    .dataframe thead th {\n",
       "        text-align: right;\n",
       "    }\n",
       "</style>\n",
       "<table border=\"1\" class=\"dataframe\">\n",
       "  <thead>\n",
       "    <tr style=\"text-align: right;\">\n",
       "      <th></th>\n",
       "      <th>count</th>\n",
       "      <th>sum</th>\n",
       "      <th>mean</th>\n",
       "    </tr>\n",
       "    <tr>\n",
       "      <th>gps_confidence</th>\n",
       "      <th></th>\n",
       "      <th></th>\n",
       "      <th></th>\n",
       "    </tr>\n",
       "  </thead>\n",
       "  <tbody>\n",
       "    <tr>\n",
       "      <th>0</th>\n",
       "      <td>985</td>\n",
       "      <td>201</td>\n",
       "      <td>0.204061</td>\n",
       "    </tr>\n",
       "    <tr>\n",
       "      <th>1</th>\n",
       "      <td>3958</td>\n",
       "      <td>136</td>\n",
       "      <td>0.034361</td>\n",
       "    </tr>\n",
       "  </tbody>\n",
       "</table>\n",
       "</div>"
      ],
      "text/plain": [
       "                count  sum      mean\n",
       "gps_confidence                      \n",
       "0                 985  201  0.204061\n",
       "1                3958  136  0.034361"
      ]
     },
     "execution_count": 38,
     "metadata": {},
     "output_type": "execute_result"
    }
   ],
   "source": [
    "df.groupby('gps_confidence')['overpaid_ride_ticket'].agg(['count','sum','mean'])"
   ]
  },
  {
   "cell_type": "markdown",
   "id": "472f5d38",
   "metadata": {},
   "source": [
    "Nearly 60% of all overpaid rides have 0 in gps_confidence. Moreover, for rides with 0 in gps_confidence the percentage of overpaid rides is significantly higher (20% vs 3%).\n",
    "\n",
    "0 in gps_confidence likely indicates that the GPS connection during the ride was bad, but the data description doesn't state whose connection was bad, driver's or rider's. I assume this is rider's connection."
   ]
  },
  {
   "cell_type": "markdown",
   "id": "4c6b2243",
   "metadata": {},
   "source": [
    "This gives some food for thought:\n",
    "\n",
    " - bad GPS connection could result in bad distance prediction.\n",
    " - device type could be responsible for bad GPS connection."
   ]
  },
  {
   "cell_type": "markdown",
   "id": "a7855405",
   "metadata": {},
   "source": [
    "## device_name"
   ]
  },
  {
   "cell_type": "code",
   "execution_count": 39,
   "id": "34a3782e",
   "metadata": {},
   "outputs": [
    {
     "data": {
      "text/plain": [
       "count    4943.0\n",
       "sum         0.0\n",
       "mean        0.0\n",
       "Name: device_name, dtype: float64"
      ]
     },
     "execution_count": 39,
     "metadata": {},
     "output_type": "execute_result"
    }
   ],
   "source": [
    "df['device_name'].isna().agg(['count','sum','mean'])"
   ]
  },
  {
   "cell_type": "code",
   "execution_count": 40,
   "id": "09f1d83e",
   "metadata": {},
   "outputs": [
    {
     "data": {
      "text/plain": [
       "TECNO MOBILE LIMITED TECNO B1p    108\n",
       "HMD Global Nokia 2.2               98\n",
       "iPhone8,1                          91\n",
       "TECNO F3                           86\n",
       "HUAWEI MAR-LX1A                    73\n",
       "Samsung SM-A505FN                  69\n",
       "TECNO MOBILE LIMITED TECNO KA7     67\n",
       "Samsung SM-A520F                   63\n",
       "iPhone9,3                          62\n",
       "Samsung SM-G960F                   61\n",
       "TECNO-J8                           60\n",
       "HUAWEI KOB-L09                     59\n",
       "Samsung SM-G950F                   56\n",
       "HUAWEI ANE-LX1                     55\n",
       "Samsung SM-G930F                   55\n",
       "TECNO K7                           51\n",
       "Itel S12                           50\n",
       "Samsung SM-A705FN                  49\n",
       "Samsung SM-G965F                   49\n",
       "Samsung SM-G935F                   47\n",
       "Samsung SM-A105FN                  46\n",
       "Samsung SM-A605FN                  45\n",
       "iPhone7,2                          44\n",
       "Xiaomi Redmi Note 7                43\n",
       "Samsung SM-A530F                   43\n",
       "Samsung SM-J610FN                  41\n",
       "TECNO MOBILE LIMITED TECNO B1      41\n",
       "HUAWEI ATU-L21                     39\n",
       "Samsung SM-A405FN                  39\n",
       "HUAWEI VNS-L21                     38\n",
       "Name: device_name, dtype: int64"
      ]
     },
     "execution_count": 40,
     "metadata": {},
     "output_type": "execute_result"
    }
   ],
   "source": [
    "df['device_name'].value_counts().head(30)"
   ]
  },
  {
   "cell_type": "code",
   "execution_count": 41,
   "id": "c106a518",
   "metadata": {},
   "outputs": [],
   "source": [
    "def device_sort(device_name):\n",
    "    if 'tecno' in device_name.lower():\n",
    "        return 'tecno'\n",
    "    if 'nokia' in device_name.lower():\n",
    "        return 'nokia'\n",
    "    if 'iphone' in device_name.lower():\n",
    "        return 'iphone'\n",
    "    if 'huawei' in device_name.lower():\n",
    "        return 'huawei'\n",
    "    if 'samsung' in device_name.lower():\n",
    "        return 'samsung'\n",
    "    if 'xiaomi' in device_name.lower():\n",
    "        return 'xiaomi'\n",
    "    if 'itel' in device_name.lower():\n",
    "        return 'itel'\n",
    "    else:\n",
    "        return 'misc'    "
   ]
  },
  {
   "cell_type": "code",
   "execution_count": 42,
   "id": "5f2cca36",
   "metadata": {},
   "outputs": [],
   "source": [
    "df['device_brand'] = df['device_name'].apply(device_sort)"
   ]
  },
  {
   "cell_type": "code",
   "execution_count": 43,
   "id": "a5e9fc7f",
   "metadata": {},
   "outputs": [
    {
     "data": {
      "text/html": [
       "<div>\n",
       "<style scoped>\n",
       "    .dataframe tbody tr th:only-of-type {\n",
       "        vertical-align: middle;\n",
       "    }\n",
       "\n",
       "    .dataframe tbody tr th {\n",
       "        vertical-align: top;\n",
       "    }\n",
       "\n",
       "    .dataframe thead th {\n",
       "        text-align: right;\n",
       "    }\n",
       "</style>\n",
       "<table border=\"1\" class=\"dataframe\">\n",
       "  <thead>\n",
       "    <tr style=\"text-align: right;\">\n",
       "      <th></th>\n",
       "      <th>count</th>\n",
       "      <th>sum</th>\n",
       "      <th>mean</th>\n",
       "    </tr>\n",
       "    <tr>\n",
       "      <th>device_brand</th>\n",
       "      <th></th>\n",
       "      <th></th>\n",
       "      <th></th>\n",
       "    </tr>\n",
       "  </thead>\n",
       "  <tbody>\n",
       "    <tr>\n",
       "      <th>tecno</th>\n",
       "      <td>933</td>\n",
       "      <td>156</td>\n",
       "      <td>0.167203</td>\n",
       "    </tr>\n",
       "    <tr>\n",
       "      <th>itel</th>\n",
       "      <td>120</td>\n",
       "      <td>16</td>\n",
       "      <td>0.133333</td>\n",
       "    </tr>\n",
       "    <tr>\n",
       "      <th>nokia</th>\n",
       "      <td>158</td>\n",
       "      <td>18</td>\n",
       "      <td>0.113924</td>\n",
       "    </tr>\n",
       "    <tr>\n",
       "      <th>misc</th>\n",
       "      <td>638</td>\n",
       "      <td>56</td>\n",
       "      <td>0.087774</td>\n",
       "    </tr>\n",
       "    <tr>\n",
       "      <th>samsung</th>\n",
       "      <td>1683</td>\n",
       "      <td>65</td>\n",
       "      <td>0.038622</td>\n",
       "    </tr>\n",
       "    <tr>\n",
       "      <th>iphone</th>\n",
       "      <td>426</td>\n",
       "      <td>9</td>\n",
       "      <td>0.021127</td>\n",
       "    </tr>\n",
       "    <tr>\n",
       "      <th>huawei</th>\n",
       "      <td>724</td>\n",
       "      <td>14</td>\n",
       "      <td>0.019337</td>\n",
       "    </tr>\n",
       "    <tr>\n",
       "      <th>xiaomi</th>\n",
       "      <td>261</td>\n",
       "      <td>3</td>\n",
       "      <td>0.011494</td>\n",
       "    </tr>\n",
       "  </tbody>\n",
       "</table>\n",
       "</div>"
      ],
      "text/plain": [
       "              count  sum      mean\n",
       "device_brand                      \n",
       "tecno           933  156  0.167203\n",
       "itel            120   16  0.133333\n",
       "nokia           158   18  0.113924\n",
       "misc            638   56  0.087774\n",
       "samsung        1683   65  0.038622\n",
       "iphone          426    9  0.021127\n",
       "huawei          724   14  0.019337\n",
       "xiaomi          261    3  0.011494"
      ]
     },
     "execution_count": 43,
     "metadata": {},
     "output_type": "execute_result"
    }
   ],
   "source": [
    "df.groupby('device_brand')['overpaid_ride_ticket'].agg(['count','sum','mean']).sort_values(['mean'],\n",
    "                                                                                                 ascending=False)"
   ]
  },
  {
   "cell_type": "code",
   "execution_count": 44,
   "id": "881166e6",
   "metadata": {},
   "outputs": [
    {
     "data": {
      "text/html": [
       "<div>\n",
       "<style scoped>\n",
       "    .dataframe tbody tr th:only-of-type {\n",
       "        vertical-align: middle;\n",
       "    }\n",
       "\n",
       "    .dataframe tbody tr th {\n",
       "        vertical-align: top;\n",
       "    }\n",
       "\n",
       "    .dataframe thead th {\n",
       "        text-align: right;\n",
       "    }\n",
       "</style>\n",
       "<table border=\"1\" class=\"dataframe\">\n",
       "  <thead>\n",
       "    <tr style=\"text-align: right;\">\n",
       "      <th></th>\n",
       "      <th>count</th>\n",
       "      <th>sum</th>\n",
       "      <th>mean</th>\n",
       "    </tr>\n",
       "    <tr>\n",
       "      <th>device_brand</th>\n",
       "      <th></th>\n",
       "      <th></th>\n",
       "      <th></th>\n",
       "    </tr>\n",
       "  </thead>\n",
       "  <tbody>\n",
       "    <tr>\n",
       "      <th>xiaomi</th>\n",
       "      <td>261</td>\n",
       "      <td>246</td>\n",
       "      <td>0.942529</td>\n",
       "    </tr>\n",
       "    <tr>\n",
       "      <th>huawei</th>\n",
       "      <td>724</td>\n",
       "      <td>671</td>\n",
       "      <td>0.926796</td>\n",
       "    </tr>\n",
       "    <tr>\n",
       "      <th>iphone</th>\n",
       "      <td>426</td>\n",
       "      <td>392</td>\n",
       "      <td>0.920188</td>\n",
       "    </tr>\n",
       "    <tr>\n",
       "      <th>samsung</th>\n",
       "      <td>1683</td>\n",
       "      <td>1485</td>\n",
       "      <td>0.882353</td>\n",
       "    </tr>\n",
       "    <tr>\n",
       "      <th>misc</th>\n",
       "      <td>638</td>\n",
       "      <td>458</td>\n",
       "      <td>0.717868</td>\n",
       "    </tr>\n",
       "    <tr>\n",
       "      <th>nokia</th>\n",
       "      <td>158</td>\n",
       "      <td>113</td>\n",
       "      <td>0.715190</td>\n",
       "    </tr>\n",
       "    <tr>\n",
       "      <th>itel</th>\n",
       "      <td>120</td>\n",
       "      <td>69</td>\n",
       "      <td>0.575000</td>\n",
       "    </tr>\n",
       "    <tr>\n",
       "      <th>tecno</th>\n",
       "      <td>933</td>\n",
       "      <td>524</td>\n",
       "      <td>0.561629</td>\n",
       "    </tr>\n",
       "  </tbody>\n",
       "</table>\n",
       "</div>"
      ],
      "text/plain": [
       "              count   sum      mean\n",
       "device_brand                       \n",
       "xiaomi          261   246  0.942529\n",
       "huawei          724   671  0.926796\n",
       "iphone          426   392  0.920188\n",
       "samsung        1683  1485  0.882353\n",
       "misc            638   458  0.717868\n",
       "nokia           158   113  0.715190\n",
       "itel            120    69  0.575000\n",
       "tecno           933   524  0.561629"
      ]
     },
     "execution_count": 44,
     "metadata": {},
     "output_type": "execute_result"
    }
   ],
   "source": [
    "df.groupby('device_brand')['gps_confidence'].agg(['count','sum','mean']).sort_values(['mean'],\n",
    "                                                                                     ascending=False)"
   ]
  },
  {
   "cell_type": "markdown",
   "id": "b96df59f",
   "metadata": {},
   "source": [
    "Evidently, the device brands that are responsible for most issues are simultaneiously the ones with lowest mean gps confidence."
   ]
  },
  {
   "cell_type": "code",
   "execution_count": 45,
   "id": "428abfc4",
   "metadata": {},
   "outputs": [
    {
     "data": {
      "text/html": [
       "<div>\n",
       "<style scoped>\n",
       "    .dataframe tbody tr th:only-of-type {\n",
       "        vertical-align: middle;\n",
       "    }\n",
       "\n",
       "    .dataframe tbody tr th {\n",
       "        vertical-align: top;\n",
       "    }\n",
       "\n",
       "    .dataframe thead th {\n",
       "        text-align: right;\n",
       "    }\n",
       "</style>\n",
       "<table border=\"1\" class=\"dataframe\">\n",
       "  <thead>\n",
       "    <tr style=\"text-align: right;\">\n",
       "      <th></th>\n",
       "      <th></th>\n",
       "      <th></th>\n",
       "      <th>count</th>\n",
       "      <th>sum</th>\n",
       "      <th>mean</th>\n",
       "    </tr>\n",
       "    <tr>\n",
       "      <th>eu_indicator</th>\n",
       "      <th>device_brand</th>\n",
       "      <th>gps_confidence</th>\n",
       "      <th></th>\n",
       "      <th></th>\n",
       "      <th></th>\n",
       "    </tr>\n",
       "  </thead>\n",
       "  <tbody>\n",
       "    <tr>\n",
       "      <th rowspan=\"16\" valign=\"top\">0</th>\n",
       "      <th rowspan=\"2\" valign=\"top\">huawei</th>\n",
       "      <th>0</th>\n",
       "      <td>23</td>\n",
       "      <td>5</td>\n",
       "      <td>0.217391</td>\n",
       "    </tr>\n",
       "    <tr>\n",
       "      <th>1</th>\n",
       "      <td>41</td>\n",
       "      <td>4</td>\n",
       "      <td>0.097561</td>\n",
       "    </tr>\n",
       "    <tr>\n",
       "      <th rowspan=\"2\" valign=\"top\">iphone</th>\n",
       "      <th>0</th>\n",
       "      <td>9</td>\n",
       "      <td>2</td>\n",
       "      <td>0.222222</td>\n",
       "    </tr>\n",
       "    <tr>\n",
       "      <th>1</th>\n",
       "      <td>51</td>\n",
       "      <td>7</td>\n",
       "      <td>0.137255</td>\n",
       "    </tr>\n",
       "    <tr>\n",
       "      <th rowspan=\"2\" valign=\"top\">itel</th>\n",
       "      <th>0</th>\n",
       "      <td>51</td>\n",
       "      <td>12</td>\n",
       "      <td>0.235294</td>\n",
       "    </tr>\n",
       "    <tr>\n",
       "      <th>1</th>\n",
       "      <td>68</td>\n",
       "      <td>4</td>\n",
       "      <td>0.058824</td>\n",
       "    </tr>\n",
       "    <tr>\n",
       "      <th rowspan=\"2\" valign=\"top\">misc</th>\n",
       "      <th>0</th>\n",
       "      <td>168</td>\n",
       "      <td>31</td>\n",
       "      <td>0.184524</td>\n",
       "    </tr>\n",
       "    <tr>\n",
       "      <th>1</th>\n",
       "      <td>257</td>\n",
       "      <td>23</td>\n",
       "      <td>0.089494</td>\n",
       "    </tr>\n",
       "    <tr>\n",
       "      <th rowspan=\"2\" valign=\"top\">nokia</th>\n",
       "      <th>0</th>\n",
       "      <td>42</td>\n",
       "      <td>13</td>\n",
       "      <td>0.309524</td>\n",
       "    </tr>\n",
       "    <tr>\n",
       "      <th>1</th>\n",
       "      <td>85</td>\n",
       "      <td>5</td>\n",
       "      <td>0.058824</td>\n",
       "    </tr>\n",
       "    <tr>\n",
       "      <th rowspan=\"2\" valign=\"top\">samsung</th>\n",
       "      <th>0</th>\n",
       "      <td>146</td>\n",
       "      <td>33</td>\n",
       "      <td>0.226027</td>\n",
       "    </tr>\n",
       "    <tr>\n",
       "      <th>1</th>\n",
       "      <td>278</td>\n",
       "      <td>28</td>\n",
       "      <td>0.100719</td>\n",
       "    </tr>\n",
       "    <tr>\n",
       "      <th rowspan=\"2\" valign=\"top\">tecno</th>\n",
       "      <th>0</th>\n",
       "      <td>409</td>\n",
       "      <td>101</td>\n",
       "      <td>0.246944</td>\n",
       "    </tr>\n",
       "    <tr>\n",
       "      <th>1</th>\n",
       "      <td>524</td>\n",
       "      <td>55</td>\n",
       "      <td>0.104962</td>\n",
       "    </tr>\n",
       "    <tr>\n",
       "      <th rowspan=\"2\" valign=\"top\">xiaomi</th>\n",
       "      <th>0</th>\n",
       "      <td>10</td>\n",
       "      <td>0</td>\n",
       "      <td>0.000000</td>\n",
       "    </tr>\n",
       "    <tr>\n",
       "      <th>1</th>\n",
       "      <td>11</td>\n",
       "      <td>1</td>\n",
       "      <td>0.090909</td>\n",
       "    </tr>\n",
       "    <tr>\n",
       "      <th rowspan=\"13\" valign=\"top\">1</th>\n",
       "      <th rowspan=\"2\" valign=\"top\">huawei</th>\n",
       "      <th>0</th>\n",
       "      <td>30</td>\n",
       "      <td>2</td>\n",
       "      <td>0.066667</td>\n",
       "    </tr>\n",
       "    <tr>\n",
       "      <th>1</th>\n",
       "      <td>630</td>\n",
       "      <td>3</td>\n",
       "      <td>0.004762</td>\n",
       "    </tr>\n",
       "    <tr>\n",
       "      <th rowspan=\"2\" valign=\"top\">iphone</th>\n",
       "      <th>0</th>\n",
       "      <td>25</td>\n",
       "      <td>0</td>\n",
       "      <td>0.000000</td>\n",
       "    </tr>\n",
       "    <tr>\n",
       "      <th>1</th>\n",
       "      <td>341</td>\n",
       "      <td>0</td>\n",
       "      <td>0.000000</td>\n",
       "    </tr>\n",
       "    <tr>\n",
       "      <th>itel</th>\n",
       "      <th>1</th>\n",
       "      <td>1</td>\n",
       "      <td>0</td>\n",
       "      <td>0.000000</td>\n",
       "    </tr>\n",
       "    <tr>\n",
       "      <th rowspan=\"2\" valign=\"top\">misc</th>\n",
       "      <th>0</th>\n",
       "      <td>12</td>\n",
       "      <td>1</td>\n",
       "      <td>0.083333</td>\n",
       "    </tr>\n",
       "    <tr>\n",
       "      <th>1</th>\n",
       "      <td>201</td>\n",
       "      <td>1</td>\n",
       "      <td>0.004975</td>\n",
       "    </tr>\n",
       "    <tr>\n",
       "      <th rowspan=\"2\" valign=\"top\">nokia</th>\n",
       "      <th>0</th>\n",
       "      <td>3</td>\n",
       "      <td>0</td>\n",
       "      <td>0.000000</td>\n",
       "    </tr>\n",
       "    <tr>\n",
       "      <th>1</th>\n",
       "      <td>28</td>\n",
       "      <td>0</td>\n",
       "      <td>0.000000</td>\n",
       "    </tr>\n",
       "    <tr>\n",
       "      <th rowspan=\"2\" valign=\"top\">samsung</th>\n",
       "      <th>0</th>\n",
       "      <td>52</td>\n",
       "      <td>1</td>\n",
       "      <td>0.019231</td>\n",
       "    </tr>\n",
       "    <tr>\n",
       "      <th>1</th>\n",
       "      <td>1207</td>\n",
       "      <td>3</td>\n",
       "      <td>0.002486</td>\n",
       "    </tr>\n",
       "    <tr>\n",
       "      <th rowspan=\"2\" valign=\"top\">xiaomi</th>\n",
       "      <th>0</th>\n",
       "      <td>5</td>\n",
       "      <td>0</td>\n",
       "      <td>0.000000</td>\n",
       "    </tr>\n",
       "    <tr>\n",
       "      <th>1</th>\n",
       "      <td>235</td>\n",
       "      <td>2</td>\n",
       "      <td>0.008511</td>\n",
       "    </tr>\n",
       "  </tbody>\n",
       "</table>\n",
       "</div>"
      ],
      "text/plain": [
       "                                          count  sum      mean\n",
       "eu_indicator device_brand gps_confidence                      \n",
       "0            huawei       0                  23    5  0.217391\n",
       "                          1                  41    4  0.097561\n",
       "             iphone       0                   9    2  0.222222\n",
       "                          1                  51    7  0.137255\n",
       "             itel         0                  51   12  0.235294\n",
       "                          1                  68    4  0.058824\n",
       "             misc         0                 168   31  0.184524\n",
       "                          1                 257   23  0.089494\n",
       "             nokia        0                  42   13  0.309524\n",
       "                          1                  85    5  0.058824\n",
       "             samsung      0                 146   33  0.226027\n",
       "                          1                 278   28  0.100719\n",
       "             tecno        0                 409  101  0.246944\n",
       "                          1                 524   55  0.104962\n",
       "             xiaomi       0                  10    0  0.000000\n",
       "                          1                  11    1  0.090909\n",
       "1            huawei       0                  30    2  0.066667\n",
       "                          1                 630    3  0.004762\n",
       "             iphone       0                  25    0  0.000000\n",
       "                          1                 341    0  0.000000\n",
       "             itel         1                   1    0  0.000000\n",
       "             misc         0                  12    1  0.083333\n",
       "                          1                 201    1  0.004975\n",
       "             nokia        0                   3    0  0.000000\n",
       "                          1                  28    0  0.000000\n",
       "             samsung      0                  52    1  0.019231\n",
       "                          1                1207    3  0.002486\n",
       "             xiaomi       0                   5    0  0.000000\n",
       "                          1                 235    2  0.008511"
      ]
     },
     "execution_count": 45,
     "metadata": {},
     "output_type": "execute_result"
    }
   ],
   "source": [
    "df.groupby(['eu_indicator','device_brand','gps_confidence'])['overpaid_ride_ticket'].agg(['count','sum','mean'])"
   ]
  },
  {
   "cell_type": "markdown",
   "id": "210a06b6",
   "metadata": {},
   "source": [
    "Everything seems to boil down to the quality of gps."
   ]
  },
  {
   "cell_type": "markdown",
   "id": "aa29994e",
   "metadata": {},
   "source": [
    "## rider_app_version, driver_app_version"
   ]
  },
  {
   "cell_type": "code",
   "execution_count": 46,
   "id": "1af514aa",
   "metadata": {},
   "outputs": [
    {
     "data": {
      "text/plain": [
       "count    4943.000000\n",
       "sum        16.000000\n",
       "mean        0.003237\n",
       "Name: rider_app_version, dtype: float64"
      ]
     },
     "execution_count": 46,
     "metadata": {},
     "output_type": "execute_result"
    }
   ],
   "source": [
    "df['rider_app_version'].isna().agg(['count','sum','mean'])"
   ]
  },
  {
   "cell_type": "code",
   "execution_count": 47,
   "id": "c0e56311",
   "metadata": {},
   "outputs": [
    {
     "data": {
      "text/plain": [
       "CI.4.17    723\n",
       "CI.4.19    624\n",
       "CA.5.44    560\n",
       "CA.5.43    406\n",
       "CA.5.42    365\n",
       "          ... \n",
       "CA.4.44      1\n",
       "CI.3.81      1\n",
       "CI.3.44      1\n",
       "CI.3.62      1\n",
       "CI.3.93      1\n",
       "Name: rider_app_version, Length: 114, dtype: int64"
      ]
     },
     "execution_count": 47,
     "metadata": {},
     "output_type": "execute_result"
    }
   ],
   "source": [
    "df['rider_app_version'].value_counts()"
   ]
  },
  {
   "cell_type": "code",
   "execution_count": 48,
   "id": "d1dfa02c",
   "metadata": {},
   "outputs": [
    {
     "data": {
      "text/html": [
       "<div>\n",
       "<style scoped>\n",
       "    .dataframe tbody tr th:only-of-type {\n",
       "        vertical-align: middle;\n",
       "    }\n",
       "\n",
       "    .dataframe tbody tr th {\n",
       "        vertical-align: top;\n",
       "    }\n",
       "\n",
       "    .dataframe thead th {\n",
       "        text-align: right;\n",
       "    }\n",
       "</style>\n",
       "<table border=\"1\" class=\"dataframe\">\n",
       "  <thead>\n",
       "    <tr style=\"text-align: right;\">\n",
       "      <th></th>\n",
       "      <th>count</th>\n",
       "      <th>sum</th>\n",
       "      <th>mean</th>\n",
       "    </tr>\n",
       "    <tr>\n",
       "      <th>rider_app_version</th>\n",
       "      <th></th>\n",
       "      <th></th>\n",
       "      <th></th>\n",
       "    </tr>\n",
       "  </thead>\n",
       "  <tbody>\n",
       "    <tr>\n",
       "      <th>CI.4.17</th>\n",
       "      <td>723</td>\n",
       "      <td>30</td>\n",
       "      <td>0.041494</td>\n",
       "    </tr>\n",
       "    <tr>\n",
       "      <th>CI.4.19</th>\n",
       "      <td>624</td>\n",
       "      <td>30</td>\n",
       "      <td>0.048077</td>\n",
       "    </tr>\n",
       "    <tr>\n",
       "      <th>CA.5.44</th>\n",
       "      <td>560</td>\n",
       "      <td>50</td>\n",
       "      <td>0.089286</td>\n",
       "    </tr>\n",
       "    <tr>\n",
       "      <th>CA.5.43</th>\n",
       "      <td>406</td>\n",
       "      <td>19</td>\n",
       "      <td>0.046798</td>\n",
       "    </tr>\n",
       "    <tr>\n",
       "      <th>CA.5.42</th>\n",
       "      <td>365</td>\n",
       "      <td>24</td>\n",
       "      <td>0.065753</td>\n",
       "    </tr>\n",
       "    <tr>\n",
       "      <th>CI.4.18</th>\n",
       "      <td>272</td>\n",
       "      <td>17</td>\n",
       "      <td>0.062500</td>\n",
       "    </tr>\n",
       "    <tr>\n",
       "      <th>CA.5.46</th>\n",
       "      <td>238</td>\n",
       "      <td>8</td>\n",
       "      <td>0.033613</td>\n",
       "    </tr>\n",
       "    <tr>\n",
       "      <th>CA.5.45</th>\n",
       "      <td>213</td>\n",
       "      <td>16</td>\n",
       "      <td>0.075117</td>\n",
       "    </tr>\n",
       "    <tr>\n",
       "      <th>CA.5.36</th>\n",
       "      <td>187</td>\n",
       "      <td>18</td>\n",
       "      <td>0.096257</td>\n",
       "    </tr>\n",
       "    <tr>\n",
       "      <th>CI.4.14</th>\n",
       "      <td>156</td>\n",
       "      <td>18</td>\n",
       "      <td>0.115385</td>\n",
       "    </tr>\n",
       "  </tbody>\n",
       "</table>\n",
       "</div>"
      ],
      "text/plain": [
       "                   count  sum      mean\n",
       "rider_app_version                      \n",
       "CI.4.17              723   30  0.041494\n",
       "CI.4.19              624   30  0.048077\n",
       "CA.5.44              560   50  0.089286\n",
       "CA.5.43              406   19  0.046798\n",
       "CA.5.42              365   24  0.065753\n",
       "CI.4.18              272   17  0.062500\n",
       "CA.5.46              238    8  0.033613\n",
       "CA.5.45              213   16  0.075117\n",
       "CA.5.36              187   18  0.096257\n",
       "CI.4.14              156   18  0.115385"
      ]
     },
     "execution_count": 48,
     "metadata": {},
     "output_type": "execute_result"
    }
   ],
   "source": [
    "df.groupby('rider_app_version')['overpaid_ride_ticket'].agg(['count','sum','mean']).sort_values(['count','mean'],\n",
    "                                                                                                ascending=False).head(10)"
   ]
  },
  {
   "cell_type": "code",
   "execution_count": 49,
   "id": "0054ae79",
   "metadata": {},
   "outputs": [
    {
     "data": {
      "text/html": [
       "<div>\n",
       "<style scoped>\n",
       "    .dataframe tbody tr th:only-of-type {\n",
       "        vertical-align: middle;\n",
       "    }\n",
       "\n",
       "    .dataframe tbody tr th {\n",
       "        vertical-align: top;\n",
       "    }\n",
       "\n",
       "    .dataframe thead th {\n",
       "        text-align: right;\n",
       "    }\n",
       "</style>\n",
       "<table border=\"1\" class=\"dataframe\">\n",
       "  <thead>\n",
       "    <tr style=\"text-align: right;\">\n",
       "      <th></th>\n",
       "      <th>count</th>\n",
       "      <th>sum</th>\n",
       "      <th>mean</th>\n",
       "    </tr>\n",
       "    <tr>\n",
       "      <th>driver_app_version</th>\n",
       "      <th></th>\n",
       "      <th></th>\n",
       "      <th></th>\n",
       "    </tr>\n",
       "  </thead>\n",
       "  <tbody>\n",
       "    <tr>\n",
       "      <th>DA.4.39</th>\n",
       "      <td>1573</td>\n",
       "      <td>92</td>\n",
       "      <td>0.058487</td>\n",
       "    </tr>\n",
       "    <tr>\n",
       "      <th>DA.4.37</th>\n",
       "      <td>1003</td>\n",
       "      <td>55</td>\n",
       "      <td>0.054835</td>\n",
       "    </tr>\n",
       "    <tr>\n",
       "      <th>DA.4.42</th>\n",
       "      <td>807</td>\n",
       "      <td>53</td>\n",
       "      <td>0.065675</td>\n",
       "    </tr>\n",
       "    <tr>\n",
       "      <th>DA.4.34</th>\n",
       "      <td>288</td>\n",
       "      <td>24</td>\n",
       "      <td>0.083333</td>\n",
       "    </tr>\n",
       "    <tr>\n",
       "      <th>DA.4.31</th>\n",
       "      <td>282</td>\n",
       "      <td>31</td>\n",
       "      <td>0.109929</td>\n",
       "    </tr>\n",
       "    <tr>\n",
       "      <th>DA.4.41</th>\n",
       "      <td>233</td>\n",
       "      <td>19</td>\n",
       "      <td>0.081545</td>\n",
       "    </tr>\n",
       "    <tr>\n",
       "      <th>DI.3.34</th>\n",
       "      <td>112</td>\n",
       "      <td>4</td>\n",
       "      <td>0.035714</td>\n",
       "    </tr>\n",
       "    <tr>\n",
       "      <th>DI.3.33</th>\n",
       "      <td>107</td>\n",
       "      <td>0</td>\n",
       "      <td>0.000000</td>\n",
       "    </tr>\n",
       "    <tr>\n",
       "      <th>DI.3.36</th>\n",
       "      <td>104</td>\n",
       "      <td>3</td>\n",
       "      <td>0.028846</td>\n",
       "    </tr>\n",
       "    <tr>\n",
       "      <th>DA.4.35</th>\n",
       "      <td>75</td>\n",
       "      <td>6</td>\n",
       "      <td>0.080000</td>\n",
       "    </tr>\n",
       "  </tbody>\n",
       "</table>\n",
       "</div>"
      ],
      "text/plain": [
       "                    count  sum      mean\n",
       "driver_app_version                      \n",
       "DA.4.39              1573   92  0.058487\n",
       "DA.4.37              1003   55  0.054835\n",
       "DA.4.42               807   53  0.065675\n",
       "DA.4.34               288   24  0.083333\n",
       "DA.4.31               282   31  0.109929\n",
       "DA.4.41               233   19  0.081545\n",
       "DI.3.34               112    4  0.035714\n",
       "DI.3.33               107    0  0.000000\n",
       "DI.3.36               104    3  0.028846\n",
       "DA.4.35                75    6  0.080000"
      ]
     },
     "execution_count": 49,
     "metadata": {},
     "output_type": "execute_result"
    }
   ],
   "source": [
    "df.groupby('driver_app_version')['overpaid_ride_ticket'].agg(['count','sum','mean']).sort_values(['count','mean'],\n",
    "                                                                                                 ascending=False).head(10)"
   ]
  },
  {
   "cell_type": "markdown",
   "id": "c783a9d2",
   "metadata": {},
   "source": [
    "CA.5.44 app version has nearly a double overpriced ride rate than the other app versions with the comparable number of riders using it.\n",
    "\n",
    "As for the driver's apps, numbers are issuficient to draw any insights."
   ]
  },
  {
   "cell_type": "code",
   "execution_count": 50,
   "id": "cbcf5d65",
   "metadata": {},
   "outputs": [],
   "source": [
    "def rider_app_sort(rider_app_version):\n",
    "    if 'CA' in str(rider_app_version):\n",
    "        return 'CA'\n",
    "    if 'CI' in str(rider_app_version):\n",
    "        return 'CI'\n",
    "    else:\n",
    "        return 'misc'    "
   ]
  },
  {
   "cell_type": "code",
   "execution_count": 51,
   "id": "a42b7db2",
   "metadata": {},
   "outputs": [],
   "source": [
    "df['rider_app_group'] = df['rider_app_version'].apply(rider_app_sort)"
   ]
  },
  {
   "cell_type": "code",
   "execution_count": 52,
   "id": "943a5512",
   "metadata": {},
   "outputs": [
    {
     "data": {
      "text/html": [
       "<div>\n",
       "<style scoped>\n",
       "    .dataframe tbody tr th:only-of-type {\n",
       "        vertical-align: middle;\n",
       "    }\n",
       "\n",
       "    .dataframe tbody tr th {\n",
       "        vertical-align: top;\n",
       "    }\n",
       "\n",
       "    .dataframe thead th {\n",
       "        text-align: right;\n",
       "    }\n",
       "</style>\n",
       "<table border=\"1\" class=\"dataframe\">\n",
       "  <thead>\n",
       "    <tr style=\"text-align: right;\">\n",
       "      <th></th>\n",
       "      <th>count</th>\n",
       "      <th>sum</th>\n",
       "      <th>mean</th>\n",
       "    </tr>\n",
       "    <tr>\n",
       "      <th>rider_app_group</th>\n",
       "      <th></th>\n",
       "      <th></th>\n",
       "      <th></th>\n",
       "    </tr>\n",
       "  </thead>\n",
       "  <tbody>\n",
       "    <tr>\n",
       "      <th>CA</th>\n",
       "      <td>2799</td>\n",
       "      <td>218</td>\n",
       "      <td>0.077885</td>\n",
       "    </tr>\n",
       "    <tr>\n",
       "      <th>CI</th>\n",
       "      <td>2128</td>\n",
       "      <td>119</td>\n",
       "      <td>0.055921</td>\n",
       "    </tr>\n",
       "    <tr>\n",
       "      <th>misc</th>\n",
       "      <td>16</td>\n",
       "      <td>0</td>\n",
       "      <td>0.000000</td>\n",
       "    </tr>\n",
       "  </tbody>\n",
       "</table>\n",
       "</div>"
      ],
      "text/plain": [
       "                 count  sum      mean\n",
       "rider_app_group                      \n",
       "CA                2799  218  0.077885\n",
       "CI                2128  119  0.055921\n",
       "misc                16    0  0.000000"
      ]
     },
     "execution_count": 52,
     "metadata": {},
     "output_type": "execute_result"
    }
   ],
   "source": [
    "df.groupby('rider_app_group')['overpaid_ride_ticket'].agg(['count','sum','mean']).sort_values(['mean'],\n",
    "                                                                                                 ascending=False)"
   ]
  },
  {
   "cell_type": "markdown",
   "id": "d6c09d74",
   "metadata": {},
   "source": [
    "Given the app version numbers, presumably, CAs are the older versions of the rider's apps."
   ]
  },
  {
   "cell_type": "code",
   "execution_count": 53,
   "id": "f67610a9",
   "metadata": {},
   "outputs": [
    {
     "data": {
      "text/html": [
       "<div>\n",
       "<style scoped>\n",
       "    .dataframe tbody tr th:only-of-type {\n",
       "        vertical-align: middle;\n",
       "    }\n",
       "\n",
       "    .dataframe tbody tr th {\n",
       "        vertical-align: top;\n",
       "    }\n",
       "\n",
       "    .dataframe thead th {\n",
       "        text-align: right;\n",
       "    }\n",
       "</style>\n",
       "<table border=\"1\" class=\"dataframe\">\n",
       "  <thead>\n",
       "    <tr style=\"text-align: right;\">\n",
       "      <th></th>\n",
       "      <th></th>\n",
       "      <th>count</th>\n",
       "      <th>sum</th>\n",
       "      <th>mean</th>\n",
       "    </tr>\n",
       "    <tr>\n",
       "      <th>device_brand</th>\n",
       "      <th>rider_app_group</th>\n",
       "      <th></th>\n",
       "      <th></th>\n",
       "      <th></th>\n",
       "    </tr>\n",
       "  </thead>\n",
       "  <tbody>\n",
       "    <tr>\n",
       "      <th>tecno</th>\n",
       "      <th>CI</th>\n",
       "      <td>274</td>\n",
       "      <td>60</td>\n",
       "      <td>0.218978</td>\n",
       "    </tr>\n",
       "    <tr>\n",
       "      <th>itel</th>\n",
       "      <th>CA</th>\n",
       "      <td>88</td>\n",
       "      <td>14</td>\n",
       "      <td>0.159091</td>\n",
       "    </tr>\n",
       "    <tr>\n",
       "      <th>tecno</th>\n",
       "      <th>CA</th>\n",
       "      <td>659</td>\n",
       "      <td>96</td>\n",
       "      <td>0.145675</td>\n",
       "    </tr>\n",
       "    <tr>\n",
       "      <th>nokia</th>\n",
       "      <th>CA</th>\n",
       "      <td>106</td>\n",
       "      <td>14</td>\n",
       "      <td>0.132075</td>\n",
       "    </tr>\n",
       "    <tr>\n",
       "      <th rowspan=\"2\" valign=\"top\">misc</th>\n",
       "      <th>CI</th>\n",
       "      <td>251</td>\n",
       "      <td>23</td>\n",
       "      <td>0.091633</td>\n",
       "    </tr>\n",
       "    <tr>\n",
       "      <th>CA</th>\n",
       "      <td>384</td>\n",
       "      <td>33</td>\n",
       "      <td>0.085938</td>\n",
       "    </tr>\n",
       "    <tr>\n",
       "      <th>nokia</th>\n",
       "      <th>CI</th>\n",
       "      <td>52</td>\n",
       "      <td>4</td>\n",
       "      <td>0.076923</td>\n",
       "    </tr>\n",
       "    <tr>\n",
       "      <th>itel</th>\n",
       "      <th>CI</th>\n",
       "      <td>32</td>\n",
       "      <td>2</td>\n",
       "      <td>0.062500</td>\n",
       "    </tr>\n",
       "    <tr>\n",
       "      <th>samsung</th>\n",
       "      <th>CA</th>\n",
       "      <td>873</td>\n",
       "      <td>43</td>\n",
       "      <td>0.049255</td>\n",
       "    </tr>\n",
       "    <tr>\n",
       "      <th>iphone</th>\n",
       "      <th>CA</th>\n",
       "      <td>218</td>\n",
       "      <td>9</td>\n",
       "      <td>0.041284</td>\n",
       "    </tr>\n",
       "    <tr>\n",
       "      <th>samsung</th>\n",
       "      <th>CI</th>\n",
       "      <td>804</td>\n",
       "      <td>22</td>\n",
       "      <td>0.027363</td>\n",
       "    </tr>\n",
       "    <tr>\n",
       "      <th>huawei</th>\n",
       "      <th>CA</th>\n",
       "      <td>340</td>\n",
       "      <td>8</td>\n",
       "      <td>0.023529</td>\n",
       "    </tr>\n",
       "    <tr>\n",
       "      <th>xiaomi</th>\n",
       "      <th>CI</th>\n",
       "      <td>127</td>\n",
       "      <td>2</td>\n",
       "      <td>0.015748</td>\n",
       "    </tr>\n",
       "    <tr>\n",
       "      <th>huawei</th>\n",
       "      <th>CI</th>\n",
       "      <td>381</td>\n",
       "      <td>6</td>\n",
       "      <td>0.015748</td>\n",
       "    </tr>\n",
       "    <tr>\n",
       "      <th>xiaomi</th>\n",
       "      <th>CA</th>\n",
       "      <td>131</td>\n",
       "      <td>1</td>\n",
       "      <td>0.007634</td>\n",
       "    </tr>\n",
       "    <tr>\n",
       "      <th>misc</th>\n",
       "      <th>misc</th>\n",
       "      <td>3</td>\n",
       "      <td>0</td>\n",
       "      <td>0.000000</td>\n",
       "    </tr>\n",
       "    <tr>\n",
       "      <th>samsung</th>\n",
       "      <th>misc</th>\n",
       "      <td>6</td>\n",
       "      <td>0</td>\n",
       "      <td>0.000000</td>\n",
       "    </tr>\n",
       "    <tr>\n",
       "      <th rowspan=\"2\" valign=\"top\">iphone</th>\n",
       "      <th>misc</th>\n",
       "      <td>1</td>\n",
       "      <td>0</td>\n",
       "      <td>0.000000</td>\n",
       "    </tr>\n",
       "    <tr>\n",
       "      <th>CI</th>\n",
       "      <td>207</td>\n",
       "      <td>0</td>\n",
       "      <td>0.000000</td>\n",
       "    </tr>\n",
       "    <tr>\n",
       "      <th>huawei</th>\n",
       "      <th>misc</th>\n",
       "      <td>3</td>\n",
       "      <td>0</td>\n",
       "      <td>0.000000</td>\n",
       "    </tr>\n",
       "    <tr>\n",
       "      <th>xiaomi</th>\n",
       "      <th>misc</th>\n",
       "      <td>3</td>\n",
       "      <td>0</td>\n",
       "      <td>0.000000</td>\n",
       "    </tr>\n",
       "  </tbody>\n",
       "</table>\n",
       "</div>"
      ],
      "text/plain": [
       "                              count  sum      mean\n",
       "device_brand rider_app_group                      \n",
       "tecno        CI                 274   60  0.218978\n",
       "itel         CA                  88   14  0.159091\n",
       "tecno        CA                 659   96  0.145675\n",
       "nokia        CA                 106   14  0.132075\n",
       "misc         CI                 251   23  0.091633\n",
       "             CA                 384   33  0.085938\n",
       "nokia        CI                  52    4  0.076923\n",
       "itel         CI                  32    2  0.062500\n",
       "samsung      CA                 873   43  0.049255\n",
       "iphone       CA                 218    9  0.041284\n",
       "samsung      CI                 804   22  0.027363\n",
       "huawei       CA                 340    8  0.023529\n",
       "xiaomi       CI                 127    2  0.015748\n",
       "huawei       CI                 381    6  0.015748\n",
       "xiaomi       CA                 131    1  0.007634\n",
       "misc         misc                 3    0  0.000000\n",
       "samsung      misc                 6    0  0.000000\n",
       "iphone       misc                 1    0  0.000000\n",
       "             CI                 207    0  0.000000\n",
       "huawei       misc                 3    0  0.000000\n",
       "xiaomi       misc                 3    0  0.000000"
      ]
     },
     "execution_count": 53,
     "metadata": {},
     "output_type": "execute_result"
    }
   ],
   "source": [
    "df.groupby(['device_brand', 'rider_app_group'])['overpaid_ride_ticket'].agg(['count','sum','mean']).sort_values(['mean'],\n",
    "                                                                                                 ascending=False)"
   ]
  },
  {
   "cell_type": "markdown",
   "id": "bab70935",
   "metadata": {},
   "source": [
    "It looks that for most device brands CI versions of rider's apps perform better than CA versions in terms of the number of the overpaid rides.\n",
    "\n",
    "Except for tecno, the brand with the worst performance in general in relation to this case.\n",
    "\n",
    "For driver's app such an analysis isn't possible because drivers seem to be more eager to keep their driver's app updated."
   ]
  },
  {
   "cell_type": "markdown",
   "id": "903b6b88",
   "metadata": {},
   "source": [
    "## predicted_duration, duration"
   ]
  },
  {
   "cell_type": "code",
   "execution_count": 54,
   "id": "c6ec93ea",
   "metadata": {},
   "outputs": [
    {
     "data": {
      "text/plain": [
       "count    4943.000000\n",
       "sum        20.000000\n",
       "mean        0.004046\n",
       "Name: predicted_duration, dtype: float64"
      ]
     },
     "execution_count": 54,
     "metadata": {},
     "output_type": "execute_result"
    }
   ],
   "source": [
    "df['predicted_duration'].isna().agg(['count','sum','mean'])"
   ]
  },
  {
   "cell_type": "code",
   "execution_count": 55,
   "id": "c67d98d0",
   "metadata": {},
   "outputs": [
    {
     "data": {
      "text/plain": [
       "count    4943.0\n",
       "sum         0.0\n",
       "mean        0.0\n",
       "Name: duration, dtype: float64"
      ]
     },
     "execution_count": 55,
     "metadata": {},
     "output_type": "execute_result"
    }
   ],
   "source": [
    "df['duration'].isna().agg(['count','sum','mean'])"
   ]
  },
  {
   "cell_type": "code",
   "execution_count": 56,
   "id": "2aa17b66",
   "metadata": {},
   "outputs": [],
   "source": [
    "df['dur_diff'] = df['predicted_duration'] - df['duration']"
   ]
  },
  {
   "cell_type": "code",
   "execution_count": 57,
   "id": "6f78321c",
   "metadata": {},
   "outputs": [],
   "source": [
    "df['dur_diff_category'] = pd.qcut(df['dur_diff'],5)"
   ]
  },
  {
   "cell_type": "code",
   "execution_count": 58,
   "id": "e657bc24",
   "metadata": {},
   "outputs": [
    {
     "data": {
      "text/plain": [
       "(-34.0, 122.0]          988\n",
       "(-18086.001, -845.0]    987\n",
       "(-845.0, -257.0]        985\n",
       "(-257.0, -34.0]         984\n",
       "(122.0, 20081.0]        979\n",
       "Name: dur_diff_category, dtype: int64"
      ]
     },
     "execution_count": 58,
     "metadata": {},
     "output_type": "execute_result"
    }
   ],
   "source": [
    "df['dur_diff_category'].value_counts()"
   ]
  },
  {
   "cell_type": "code",
   "execution_count": 59,
   "id": "f4970c34",
   "metadata": {},
   "outputs": [
    {
     "data": {
      "text/html": [
       "<div>\n",
       "<style scoped>\n",
       "    .dataframe tbody tr th:only-of-type {\n",
       "        vertical-align: middle;\n",
       "    }\n",
       "\n",
       "    .dataframe tbody tr th {\n",
       "        vertical-align: top;\n",
       "    }\n",
       "\n",
       "    .dataframe thead th {\n",
       "        text-align: right;\n",
       "    }\n",
       "</style>\n",
       "<table border=\"1\" class=\"dataframe\">\n",
       "  <thead>\n",
       "    <tr style=\"text-align: right;\">\n",
       "      <th></th>\n",
       "      <th>count</th>\n",
       "      <th>sum</th>\n",
       "      <th>mean</th>\n",
       "    </tr>\n",
       "    <tr>\n",
       "      <th>dur_diff_category</th>\n",
       "      <th></th>\n",
       "      <th></th>\n",
       "      <th></th>\n",
       "    </tr>\n",
       "  </thead>\n",
       "  <tbody>\n",
       "    <tr>\n",
       "      <th>(-18086.001, -845.0]</th>\n",
       "      <td>987</td>\n",
       "      <td>118</td>\n",
       "      <td>0.119554</td>\n",
       "    </tr>\n",
       "    <tr>\n",
       "      <th>(-845.0, -257.0]</th>\n",
       "      <td>985</td>\n",
       "      <td>89</td>\n",
       "      <td>0.090355</td>\n",
       "    </tr>\n",
       "    <tr>\n",
       "      <th>(122.0, 20081.0]</th>\n",
       "      <td>979</td>\n",
       "      <td>69</td>\n",
       "      <td>0.070480</td>\n",
       "    </tr>\n",
       "    <tr>\n",
       "      <th>(-34.0, 122.0]</th>\n",
       "      <td>988</td>\n",
       "      <td>33</td>\n",
       "      <td>0.033401</td>\n",
       "    </tr>\n",
       "    <tr>\n",
       "      <th>(-257.0, -34.0]</th>\n",
       "      <td>984</td>\n",
       "      <td>28</td>\n",
       "      <td>0.028455</td>\n",
       "    </tr>\n",
       "  </tbody>\n",
       "</table>\n",
       "</div>"
      ],
      "text/plain": [
       "                      count  sum      mean\n",
       "dur_diff_category                         \n",
       "(-18086.001, -845.0]    987  118  0.119554\n",
       "(-845.0, -257.0]        985   89  0.090355\n",
       "(122.0, 20081.0]        979   69  0.070480\n",
       "(-34.0, 122.0]          988   33  0.033401\n",
       "(-257.0, -34.0]         984   28  0.028455"
      ]
     },
     "execution_count": 59,
     "metadata": {},
     "output_type": "execute_result"
    }
   ],
   "source": [
    "df.groupby('dur_diff_category')['overpaid_ride_ticket'].agg(['count','sum','mean']).sort_values('mean',ascending=False)"
   ]
  },
  {
   "cell_type": "markdown",
   "id": "f96479b2",
   "metadata": {},
   "source": [
    "Expectedly, when the ride is **longer** (indicated by the minus sign) than expected , it's more likely to be deemed overpriced. \n",
    "\n",
    "Interestingly enough, **shorter** rides took the the third place. This likely indicates that some clients value precision over speed. (\"I'm not paying this much for a 10-minute ride!\")"
   ]
  },
  {
   "cell_type": "code",
   "execution_count": 60,
   "id": "c258817c",
   "metadata": {},
   "outputs": [
    {
     "data": {
      "text/html": [
       "<div>\n",
       "<style scoped>\n",
       "    .dataframe tbody tr th:only-of-type {\n",
       "        vertical-align: middle;\n",
       "    }\n",
       "\n",
       "    .dataframe tbody tr th {\n",
       "        vertical-align: top;\n",
       "    }\n",
       "\n",
       "    .dataframe thead th {\n",
       "        text-align: right;\n",
       "    }\n",
       "</style>\n",
       "<table border=\"1\" class=\"dataframe\">\n",
       "  <thead>\n",
       "    <tr style=\"text-align: right;\">\n",
       "      <th></th>\n",
       "      <th>count</th>\n",
       "      <th>sum</th>\n",
       "      <th>mean</th>\n",
       "    </tr>\n",
       "    <tr>\n",
       "      <th>dur_diff_category</th>\n",
       "      <th></th>\n",
       "      <th></th>\n",
       "      <th></th>\n",
       "    </tr>\n",
       "  </thead>\n",
       "  <tbody>\n",
       "    <tr>\n",
       "      <th>(-34.0, 122.0]</th>\n",
       "      <td>988</td>\n",
       "      <td>920</td>\n",
       "      <td>0.931174</td>\n",
       "    </tr>\n",
       "    <tr>\n",
       "      <th>(-257.0, -34.0]</th>\n",
       "      <td>984</td>\n",
       "      <td>889</td>\n",
       "      <td>0.903455</td>\n",
       "    </tr>\n",
       "    <tr>\n",
       "      <th>(122.0, 20081.0]</th>\n",
       "      <td>979</td>\n",
       "      <td>802</td>\n",
       "      <td>0.819203</td>\n",
       "    </tr>\n",
       "    <tr>\n",
       "      <th>(-845.0, -257.0]</th>\n",
       "      <td>985</td>\n",
       "      <td>787</td>\n",
       "      <td>0.798985</td>\n",
       "    </tr>\n",
       "    <tr>\n",
       "      <th>(-18086.001, -845.0]</th>\n",
       "      <td>987</td>\n",
       "      <td>542</td>\n",
       "      <td>0.549139</td>\n",
       "    </tr>\n",
       "  </tbody>\n",
       "</table>\n",
       "</div>"
      ],
      "text/plain": [
       "                      count  sum      mean\n",
       "dur_diff_category                         \n",
       "(-34.0, 122.0]          988  920  0.931174\n",
       "(-257.0, -34.0]         984  889  0.903455\n",
       "(122.0, 20081.0]        979  802  0.819203\n",
       "(-845.0, -257.0]        985  787  0.798985\n",
       "(-18086.001, -845.0]    987  542  0.549139"
      ]
     },
     "execution_count": 60,
     "metadata": {},
     "output_type": "execute_result"
    }
   ],
   "source": [
    "df.groupby('dur_diff_category')['gps_confidence'].agg(['count','sum','mean']).sort_values('mean',ascending=False)"
   ]
  },
  {
   "cell_type": "markdown",
   "id": "054d79ba",
   "metadata": {},
   "source": [
    "The lower the gps confidence, the larger the ride duration misprediction."
   ]
  },
  {
   "cell_type": "code",
   "execution_count": 61,
   "id": "6ff21ac8",
   "metadata": {},
   "outputs": [],
   "source": [
    "df['duration_error_decimal'] = np.abs(df['dur_diff']) / df['duration']"
   ]
  },
  {
   "cell_type": "code",
   "execution_count": 62,
   "id": "4a4caa87",
   "metadata": {},
   "outputs": [
    {
     "data": {
      "text/plain": [
       "mean           inf\n",
       "median    0.280515\n",
       "Name: duration_error_decimal, dtype: float64"
      ]
     },
     "execution_count": 62,
     "metadata": {},
     "output_type": "execute_result"
    }
   ],
   "source": [
    "df['duration_error_decimal'].agg(['mean','median'])"
   ]
  },
  {
   "cell_type": "code",
   "execution_count": 63,
   "id": "ab60f7e3",
   "metadata": {},
   "outputs": [
    {
     "data": {
      "text/plain": [
       "24"
      ]
     },
     "execution_count": 63,
     "metadata": {},
     "output_type": "execute_result"
    }
   ],
   "source": [
    "np.isinf(df['duration_error_decimal']).sum()"
   ]
  },
  {
   "cell_type": "code",
   "execution_count": 64,
   "id": "850598df",
   "metadata": {
    "scrolled": true
   },
   "outputs": [
    {
     "data": {
      "text/plain": [
       "mean      3.195506\n",
       "median    0.279104\n",
       "Name: duration_error_decimal, dtype: float64"
      ]
     },
     "execution_count": 64,
     "metadata": {},
     "output_type": "execute_result"
    }
   ],
   "source": [
    "df['duration_error_decimal'].replace([np.inf, -np.inf], np.nan).agg(['mean','median'])"
   ]
  },
  {
   "cell_type": "markdown",
   "id": "eef7c519",
   "metadata": {},
   "source": [
    "Median duration misprediction is 27.9%, meaning that the actual duration is off by 27.9% from the predicted duration."
   ]
  },
  {
   "cell_type": "code",
   "execution_count": 65,
   "id": "918a7bb5",
   "metadata": {},
   "outputs": [],
   "source": [
    "df['duration_error_decimal'].replace([np.inf, -np.inf], np.nan, inplace=True)"
   ]
  },
  {
   "cell_type": "code",
   "execution_count": 66,
   "id": "3e7c0d99",
   "metadata": {},
   "outputs": [],
   "source": [
    "df['duration_error_decimal_bin'] = pd.qcut(df['duration_error_decimal'], 5)"
   ]
  },
  {
   "cell_type": "code",
   "execution_count": 67,
   "id": "9e791168",
   "metadata": {},
   "outputs": [
    {
     "data": {
      "text/html": [
       "<div>\n",
       "<style scoped>\n",
       "    .dataframe tbody tr th:only-of-type {\n",
       "        vertical-align: middle;\n",
       "    }\n",
       "\n",
       "    .dataframe tbody tr th {\n",
       "        vertical-align: top;\n",
       "    }\n",
       "\n",
       "    .dataframe thead th {\n",
       "        text-align: right;\n",
       "    }\n",
       "</style>\n",
       "<table border=\"1\" class=\"dataframe\">\n",
       "  <thead>\n",
       "    <tr style=\"text-align: right;\">\n",
       "      <th></th>\n",
       "      <th>count</th>\n",
       "      <th>mean</th>\n",
       "    </tr>\n",
       "    <tr>\n",
       "      <th>duration_error_decimal_bin</th>\n",
       "      <th></th>\n",
       "      <th></th>\n",
       "    </tr>\n",
       "  </thead>\n",
       "  <tbody>\n",
       "    <tr>\n",
       "      <th>(-0.001, 0.0957]</th>\n",
       "      <td>980</td>\n",
       "      <td>0.039796</td>\n",
       "    </tr>\n",
       "    <tr>\n",
       "      <th>(0.0957, 0.212]</th>\n",
       "      <td>980</td>\n",
       "      <td>0.055102</td>\n",
       "    </tr>\n",
       "    <tr>\n",
       "      <th>(0.212, 0.359]</th>\n",
       "      <td>979</td>\n",
       "      <td>0.060266</td>\n",
       "    </tr>\n",
       "    <tr>\n",
       "      <th>(0.359, 0.599]</th>\n",
       "      <td>980</td>\n",
       "      <td>0.105102</td>\n",
       "    </tr>\n",
       "    <tr>\n",
       "      <th>(0.599, 1142.0]</th>\n",
       "      <td>980</td>\n",
       "      <td>0.082653</td>\n",
       "    </tr>\n",
       "  </tbody>\n",
       "</table>\n",
       "</div>"
      ],
      "text/plain": [
       "                            count      mean\n",
       "duration_error_decimal_bin                 \n",
       "(-0.001, 0.0957]              980  0.039796\n",
       "(0.0957, 0.212]               980  0.055102\n",
       "(0.212, 0.359]                979  0.060266\n",
       "(0.359, 0.599]                980  0.105102\n",
       "(0.599, 1142.0]               980  0.082653"
      ]
     },
     "execution_count": 67,
     "metadata": {},
     "output_type": "execute_result"
    }
   ],
   "source": [
    "df.groupby('duration_error_decimal_bin')['overpaid_ride_ticket'].agg(['count','mean'])"
   ]
  },
  {
   "cell_type": "markdown",
   "id": "dbf625d6",
   "metadata": {},
   "source": [
    "The greater the relative duration error, the greater the overpaid ride percentage."
   ]
  },
  {
   "cell_type": "markdown",
   "id": "929dad19",
   "metadata": {},
   "source": [
    "## predicted_distance, distance"
   ]
  },
  {
   "cell_type": "code",
   "execution_count": 68,
   "id": "bc1f73fa",
   "metadata": {},
   "outputs": [
    {
     "data": {
      "text/plain": [
       "count    4943.000000\n",
       "sum        20.000000\n",
       "mean        0.004046\n",
       "Name: predicted_distance, dtype: float64"
      ]
     },
     "execution_count": 68,
     "metadata": {},
     "output_type": "execute_result"
    }
   ],
   "source": [
    "df['predicted_distance'].isna().agg(['count','sum','mean'])"
   ]
  },
  {
   "cell_type": "code",
   "execution_count": 69,
   "id": "fc845e39",
   "metadata": {},
   "outputs": [],
   "source": [
    "df = df.dropna(subset=['predicted_distance'])"
   ]
  },
  {
   "cell_type": "code",
   "execution_count": 70,
   "id": "2a6040db",
   "metadata": {},
   "outputs": [
    {
     "data": {
      "text/plain": [
       "count    4923.0\n",
       "sum         0.0\n",
       "mean        0.0\n",
       "Name: distance, dtype: float64"
      ]
     },
     "execution_count": 70,
     "metadata": {},
     "output_type": "execute_result"
    }
   ],
   "source": [
    "df['distance'].isna().agg(['count','sum','mean'])"
   ]
  },
  {
   "cell_type": "code",
   "execution_count": 71,
   "id": "2381e27e",
   "metadata": {},
   "outputs": [],
   "source": [
    "df['dist_diff'] = df['predicted_distance'] - df['distance']"
   ]
  },
  {
   "cell_type": "code",
   "execution_count": 72,
   "id": "01f8693e",
   "metadata": {},
   "outputs": [],
   "source": [
    "df['dist_diff_category'] = pd.qcut(df['dist_diff'],5)"
   ]
  },
  {
   "cell_type": "code",
   "execution_count": 73,
   "id": "cd97e8dd",
   "metadata": {},
   "outputs": [
    {
     "data": {
      "text/plain": [
       "(-581.4, 0.0]             1152\n",
       "(-112012.001, -2466.0]     985\n",
       "(754.8, 341860.0]          985\n",
       "(-2466.0, -581.4]          984\n",
       "(0.0, 754.8]               817\n",
       "Name: dist_diff_category, dtype: int64"
      ]
     },
     "execution_count": 73,
     "metadata": {},
     "output_type": "execute_result"
    }
   ],
   "source": [
    "df['dist_diff_category'].value_counts()"
   ]
  },
  {
   "cell_type": "code",
   "execution_count": 74,
   "id": "91b5d5e9",
   "metadata": {},
   "outputs": [
    {
     "data": {
      "text/html": [
       "<div>\n",
       "<style scoped>\n",
       "    .dataframe tbody tr th:only-of-type {\n",
       "        vertical-align: middle;\n",
       "    }\n",
       "\n",
       "    .dataframe tbody tr th {\n",
       "        vertical-align: top;\n",
       "    }\n",
       "\n",
       "    .dataframe thead th {\n",
       "        text-align: right;\n",
       "    }\n",
       "</style>\n",
       "<table border=\"1\" class=\"dataframe\">\n",
       "  <thead>\n",
       "    <tr style=\"text-align: right;\">\n",
       "      <th></th>\n",
       "      <th>count</th>\n",
       "      <th>sum</th>\n",
       "      <th>mean</th>\n",
       "    </tr>\n",
       "    <tr>\n",
       "      <th>dist_diff_category</th>\n",
       "      <th></th>\n",
       "      <th></th>\n",
       "      <th></th>\n",
       "    </tr>\n",
       "  </thead>\n",
       "  <tbody>\n",
       "    <tr>\n",
       "      <th>(-112012.001, -2466.0]</th>\n",
       "      <td>985</td>\n",
       "      <td>140</td>\n",
       "      <td>0.142132</td>\n",
       "    </tr>\n",
       "    <tr>\n",
       "      <th>(754.8, 341860.0]</th>\n",
       "      <td>985</td>\n",
       "      <td>71</td>\n",
       "      <td>0.072081</td>\n",
       "    </tr>\n",
       "    <tr>\n",
       "      <th>(-581.4, 0.0]</th>\n",
       "      <td>1152</td>\n",
       "      <td>63</td>\n",
       "      <td>0.054688</td>\n",
       "    </tr>\n",
       "    <tr>\n",
       "      <th>(0.0, 754.8]</th>\n",
       "      <td>817</td>\n",
       "      <td>30</td>\n",
       "      <td>0.036720</td>\n",
       "    </tr>\n",
       "    <tr>\n",
       "      <th>(-2466.0, -581.4]</th>\n",
       "      <td>984</td>\n",
       "      <td>33</td>\n",
       "      <td>0.033537</td>\n",
       "    </tr>\n",
       "  </tbody>\n",
       "</table>\n",
       "</div>"
      ],
      "text/plain": [
       "                        count  sum      mean\n",
       "dist_diff_category                          \n",
       "(-112012.001, -2466.0]    985  140  0.142132\n",
       "(754.8, 341860.0]         985   71  0.072081\n",
       "(-581.4, 0.0]            1152   63  0.054688\n",
       "(0.0, 754.8]              817   30  0.036720\n",
       "(-2466.0, -581.4]         984   33  0.033537"
      ]
     },
     "execution_count": 74,
     "metadata": {},
     "output_type": "execute_result"
    }
   ],
   "source": [
    "df.groupby('dist_diff_category')['overpaid_ride_ticket'].agg(['count','sum','mean']).sort_values('mean',ascending=False)"
   ]
  },
  {
   "cell_type": "markdown",
   "id": "8d5697cf",
   "metadata": {},
   "source": [
    "Most overpaid rides were rides with actual distances noticeably longer than predicted distances. However, the percentages of overpaid rides in each of the distance difference groups shows that the relationship is not linear (probably due to the number of misprediction in short rides).\n",
    "\n",
    "Why are there differences in these distances? Obviously, bad GPS could result in bad prediction.\n"
   ]
  },
  {
   "cell_type": "code",
   "execution_count": 75,
   "id": "68b86789",
   "metadata": {},
   "outputs": [
    {
     "data": {
      "text/html": [
       "<div>\n",
       "<style scoped>\n",
       "    .dataframe tbody tr th:only-of-type {\n",
       "        vertical-align: middle;\n",
       "    }\n",
       "\n",
       "    .dataframe tbody tr th {\n",
       "        vertical-align: top;\n",
       "    }\n",
       "\n",
       "    .dataframe thead th {\n",
       "        text-align: right;\n",
       "    }\n",
       "</style>\n",
       "<table border=\"1\" class=\"dataframe\">\n",
       "  <thead>\n",
       "    <tr style=\"text-align: right;\">\n",
       "      <th></th>\n",
       "      <th>count</th>\n",
       "      <th>sum</th>\n",
       "      <th>mean</th>\n",
       "    </tr>\n",
       "    <tr>\n",
       "      <th>dist_diff_category</th>\n",
       "      <th></th>\n",
       "      <th></th>\n",
       "      <th></th>\n",
       "    </tr>\n",
       "  </thead>\n",
       "  <tbody>\n",
       "    <tr>\n",
       "      <th>(0.0, 754.8]</th>\n",
       "      <td>817</td>\n",
       "      <td>778</td>\n",
       "      <td>0.952264</td>\n",
       "    </tr>\n",
       "    <tr>\n",
       "      <th>(-2466.0, -581.4]</th>\n",
       "      <td>984</td>\n",
       "      <td>885</td>\n",
       "      <td>0.899390</td>\n",
       "    </tr>\n",
       "    <tr>\n",
       "      <th>(-581.4, 0.0]</th>\n",
       "      <td>1152</td>\n",
       "      <td>900</td>\n",
       "      <td>0.781250</td>\n",
       "    </tr>\n",
       "    <tr>\n",
       "      <th>(754.8, 341860.0]</th>\n",
       "      <td>985</td>\n",
       "      <td>753</td>\n",
       "      <td>0.764467</td>\n",
       "    </tr>\n",
       "    <tr>\n",
       "      <th>(-112012.001, -2466.0]</th>\n",
       "      <td>985</td>\n",
       "      <td>624</td>\n",
       "      <td>0.633503</td>\n",
       "    </tr>\n",
       "  </tbody>\n",
       "</table>\n",
       "</div>"
      ],
      "text/plain": [
       "                        count  sum      mean\n",
       "dist_diff_category                          \n",
       "(0.0, 754.8]              817  778  0.952264\n",
       "(-2466.0, -581.4]         984  885  0.899390\n",
       "(-581.4, 0.0]            1152  900  0.781250\n",
       "(754.8, 341860.0]         985  753  0.764467\n",
       "(-112012.001, -2466.0]    985  624  0.633503"
      ]
     },
     "execution_count": 75,
     "metadata": {},
     "output_type": "execute_result"
    }
   ],
   "source": [
    "df.groupby('dist_diff_category')['gps_confidence'].agg(['count','sum','mean']).sort_values('mean',ascending=False)"
   ]
  },
  {
   "cell_type": "markdown",
   "id": "d99450e9",
   "metadata": {},
   "source": [
    "Evidently, rides with the greatest distance mispredictions have the lowest gps confidence."
   ]
  },
  {
   "cell_type": "code",
   "execution_count": 76,
   "id": "1a94ed8d",
   "metadata": {},
   "outputs": [],
   "source": [
    "df['distance_error_decimal'] = np.abs(df['dist_diff']) / df['distance']"
   ]
  },
  {
   "cell_type": "code",
   "execution_count": 77,
   "id": "ef8f4ef0",
   "metadata": {},
   "outputs": [
    {
     "data": {
      "text/plain": [
       "mean           inf\n",
       "median    0.169715\n",
       "Name: distance_error_decimal, dtype: float64"
      ]
     },
     "execution_count": 77,
     "metadata": {},
     "output_type": "execute_result"
    }
   ],
   "source": [
    "df['distance_error_decimal'].agg(['mean','median'])"
   ]
  },
  {
   "cell_type": "code",
   "execution_count": 78,
   "id": "66aa8dce",
   "metadata": {},
   "outputs": [
    {
     "data": {
      "text/plain": [
       "63"
      ]
     },
     "execution_count": 78,
     "metadata": {},
     "output_type": "execute_result"
    }
   ],
   "source": [
    "np.isinf(df['distance_error_decimal']).sum()"
   ]
  },
  {
   "cell_type": "code",
   "execution_count": 79,
   "id": "9e4abe6d",
   "metadata": {
    "scrolled": true
   },
   "outputs": [
    {
     "data": {
      "text/plain": [
       "mean      37.434295\n",
       "median     0.163026\n",
       "Name: distance_error_decimal, dtype: float64"
      ]
     },
     "execution_count": 79,
     "metadata": {},
     "output_type": "execute_result"
    }
   ],
   "source": [
    "df['distance_error_decimal'].replace([np.inf, -np.inf], np.nan).agg(['mean','median'])"
   ]
  },
  {
   "cell_type": "markdown",
   "id": "bd56e7f1",
   "metadata": {},
   "source": [
    "Median distance misprediction is 16.3%, meaning that the actual distance is off by 16.3% from the predicted distance."
   ]
  },
  {
   "cell_type": "code",
   "execution_count": 80,
   "id": "7e00d581",
   "metadata": {},
   "outputs": [],
   "source": [
    "df['distance_error_decimal'].replace([np.inf, -np.inf], np.nan, inplace=True)"
   ]
  },
  {
   "cell_type": "code",
   "execution_count": 81,
   "id": "b674a0f4",
   "metadata": {},
   "outputs": [],
   "source": [
    "df['distance_error_decimal_bin'] = pd.qcut(df['distance_error_decimal'], 5)"
   ]
  },
  {
   "cell_type": "code",
   "execution_count": 82,
   "id": "53329e2c",
   "metadata": {},
   "outputs": [
    {
     "data": {
      "text/html": [
       "<div>\n",
       "<style scoped>\n",
       "    .dataframe tbody tr th:only-of-type {\n",
       "        vertical-align: middle;\n",
       "    }\n",
       "\n",
       "    .dataframe tbody tr th {\n",
       "        vertical-align: top;\n",
       "    }\n",
       "\n",
       "    .dataframe thead th {\n",
       "        text-align: right;\n",
       "    }\n",
       "</style>\n",
       "<table border=\"1\" class=\"dataframe\">\n",
       "  <thead>\n",
       "    <tr style=\"text-align: right;\">\n",
       "      <th></th>\n",
       "      <th>count</th>\n",
       "      <th>mean</th>\n",
       "    </tr>\n",
       "    <tr>\n",
       "      <th>distance_error_decimal_bin</th>\n",
       "      <th></th>\n",
       "      <th></th>\n",
       "    </tr>\n",
       "  </thead>\n",
       "  <tbody>\n",
       "    <tr>\n",
       "      <th>(-0.001, 0.0249]</th>\n",
       "      <td>972</td>\n",
       "      <td>0.059671</td>\n",
       "    </tr>\n",
       "    <tr>\n",
       "      <th>(0.0249, 0.0992]</th>\n",
       "      <td>974</td>\n",
       "      <td>0.036961</td>\n",
       "    </tr>\n",
       "    <tr>\n",
       "      <th>(0.0992, 0.247]</th>\n",
       "      <td>970</td>\n",
       "      <td>0.048454</td>\n",
       "    </tr>\n",
       "    <tr>\n",
       "      <th>(0.247, 0.522]</th>\n",
       "      <td>972</td>\n",
       "      <td>0.068930</td>\n",
       "    </tr>\n",
       "    <tr>\n",
       "      <th>(0.522, 18784.0]</th>\n",
       "      <td>972</td>\n",
       "      <td>0.130658</td>\n",
       "    </tr>\n",
       "  </tbody>\n",
       "</table>\n",
       "</div>"
      ],
      "text/plain": [
       "                            count      mean\n",
       "distance_error_decimal_bin                 \n",
       "(-0.001, 0.0249]              972  0.059671\n",
       "(0.0249, 0.0992]              974  0.036961\n",
       "(0.0992, 0.247]               970  0.048454\n",
       "(0.247, 0.522]                972  0.068930\n",
       "(0.522, 18784.0]              972  0.130658"
      ]
     },
     "execution_count": 82,
     "metadata": {},
     "output_type": "execute_result"
    }
   ],
   "source": [
    "df.groupby('distance_error_decimal_bin')['overpaid_ride_ticket'].agg(['count','mean'])"
   ]
  },
  {
   "cell_type": "markdown",
   "id": "f48bb213",
   "metadata": {},
   "source": [
    "In general, the greater the relative distance error, the greater the overpaid ride percentage.\n",
    "\n",
    "But in the group with the smallest relative distance error, the overpaid ride percentage is also big. This might indicate that the duration prediction is off when the distance prediction is fine."
   ]
  },
  {
   "cell_type": "code",
   "execution_count": 83,
   "id": "4ee0caea",
   "metadata": {
    "scrolled": true
   },
   "outputs": [
    {
     "data": {
      "text/html": [
       "<div>\n",
       "<style scoped>\n",
       "    .dataframe tbody tr th:only-of-type {\n",
       "        vertical-align: middle;\n",
       "    }\n",
       "\n",
       "    .dataframe tbody tr th {\n",
       "        vertical-align: top;\n",
       "    }\n",
       "\n",
       "    .dataframe thead th {\n",
       "        text-align: right;\n",
       "    }\n",
       "</style>\n",
       "<table border=\"1\" class=\"dataframe\">\n",
       "  <thead>\n",
       "    <tr style=\"text-align: right;\">\n",
       "      <th></th>\n",
       "      <th>count</th>\n",
       "      <th>sum</th>\n",
       "      <th>mean</th>\n",
       "    </tr>\n",
       "    <tr>\n",
       "      <th>duration_error_decimal_bin</th>\n",
       "      <th></th>\n",
       "      <th></th>\n",
       "      <th></th>\n",
       "    </tr>\n",
       "  </thead>\n",
       "  <tbody>\n",
       "    <tr>\n",
       "      <th>(-0.001, 0.0957]</th>\n",
       "      <td>338</td>\n",
       "      <td>10</td>\n",
       "      <td>0.029586</td>\n",
       "    </tr>\n",
       "    <tr>\n",
       "      <th>(0.0957, 0.212]</th>\n",
       "      <td>264</td>\n",
       "      <td>12</td>\n",
       "      <td>0.045455</td>\n",
       "    </tr>\n",
       "    <tr>\n",
       "      <th>(0.212, 0.359]</th>\n",
       "      <td>164</td>\n",
       "      <td>9</td>\n",
       "      <td>0.054878</td>\n",
       "    </tr>\n",
       "    <tr>\n",
       "      <th>(0.359, 0.599]</th>\n",
       "      <td>154</td>\n",
       "      <td>23</td>\n",
       "      <td>0.149351</td>\n",
       "    </tr>\n",
       "    <tr>\n",
       "      <th>(0.599, 1142.0]</th>\n",
       "      <td>53</td>\n",
       "      <td>4</td>\n",
       "      <td>0.075472</td>\n",
       "    </tr>\n",
       "  </tbody>\n",
       "</table>\n",
       "</div>"
      ],
      "text/plain": [
       "                            count  sum      mean\n",
       "duration_error_decimal_bin                      \n",
       "(-0.001, 0.0957]              338   10  0.029586\n",
       "(0.0957, 0.212]               264   12  0.045455\n",
       "(0.212, 0.359]                164    9  0.054878\n",
       "(0.359, 0.599]                154   23  0.149351\n",
       "(0.599, 1142.0]                53    4  0.075472"
      ]
     },
     "execution_count": 83,
     "metadata": {},
     "output_type": "execute_result"
    }
   ],
   "source": [
    "df[df['distance_error_decimal'] <= 0.0249].groupby('duration_error_decimal_bin')['overpaid_ride_ticket'].agg(['count','sum','mean'])"
   ]
  },
  {
   "cell_type": "markdown",
   "id": "16dec3a9",
   "metadata": {},
   "source": [
    "Withing the group with the smallest distance error, the higher the duration error, the higher the overpaid ride percentage."
   ]
  },
  {
   "cell_type": "markdown",
   "id": "98d2d5dc",
   "metadata": {},
   "source": [
    "# Key Takeaways"
   ]
  },
  {
   "cell_type": "markdown",
   "id": "3a7a5036",
   "metadata": {},
   "source": [
    "- Misprediction in duration and distance seem to be the key factors in producing overpaid rides.\n",
    "- Bad GPS is likely responsible for mispredictions. Nearly 60% of all overpaid rides had GPS issues. 20% of rides with bad GPS were overpaid whereas only 3% of rides with good GPS were overpaid.\n",
    "- GPS quality is dependend on a smartphone brand. Xiaomi, Huawei, and iPhone showed over 90% GPS confidence; Itel and Tecno less than 60%.\n",
    "- CA.5.44 version of the client app has nearly a double overpriced ride rate than the other versions.\n",
    "- Almost all clients who considered a ride overpaid have eu_indicator = 0."
   ]
  },
  {
   "cell_type": "markdown",
   "id": "8d7a38ff",
   "metadata": {},
   "source": [
    "Even though *eu_indicator* has a strong relation to overpaid rides, it doesn't give too much food for thought. Assumably, non-EU residents have cheaper phones, which is evident by the indirect factors: lower number of iPhones and less GPS confidence in Samsung phones (a sign that cheaper models might be used)."
   ]
  },
  {
   "cell_type": "markdown",
   "id": "ff04defd",
   "metadata": {},
   "source": [
    "Top opportunities for reducing the number of overpaid rides could be:\n",
    "- Adjust the price prediction algorithm around potential GPS issues. For example, introduce/adjust some coefficients that account for a client's device brand/model. Or explore and fix the particular issues with those device models. Or maybe just introduce warnings that bad GPS connection could result in higher fares.\n",
    "- Explore what's wrong with CA 5.44 client app and promote such clients to upgrade the app."
   ]
  }
 ],
 "metadata": {
  "kernelspec": {
   "display_name": "Python 3 (ipykernel)",
   "language": "python",
   "name": "python3"
  },
  "language_info": {
   "codemirror_mode": {
    "name": "ipython",
    "version": 3
   },
   "file_extension": ".py",
   "mimetype": "text/x-python",
   "name": "python",
   "nbconvert_exporter": "python",
   "pygments_lexer": "ipython3",
   "version": "3.10.9"
  }
 },
 "nbformat": 4,
 "nbformat_minor": 5
}
